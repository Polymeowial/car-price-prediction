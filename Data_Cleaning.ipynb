{
 "cells": [
  {
   "cell_type": "markdown",
   "id": "5329cd1e-3690-4cfa-af1d-1444812fb15f",
   "metadata": {},
   "source": [
    "## <span style=\"color:darkblue; font-weight:bold\"> A. Setups </span>"
   ]
  },
  {
   "cell_type": "code",
   "execution_count": 211,
   "id": "c82a73d7",
   "metadata": {},
   "outputs": [
    {
     "name": "stdout",
     "output_type": "stream",
     "text": [
      "/workspaces/car-price-prediction\n"
     ]
    }
   ],
   "source": [
    "import os\n",
    "print(os.getcwd())"
   ]
  },
  {
   "cell_type": "code",
   "execution_count": 212,
   "id": "3e51d95b-002c-4fcb-bf41-a4b7961e0e7d",
   "metadata": {},
   "outputs": [],
   "source": [
    "#Import modules=================================================================================================================\n",
    "import pandas as pd\n",
    "import numpy as np\n",
    "import matplotlib as mpl\n",
    "import matplotlib.pyplot as plt\n",
    "import re\n",
    "from sklearn.linear_model import LinearRegression\n",
    "from sklearn.metrics import mean_squared_error, r2_score"
   ]
  },
  {
   "cell_type": "code",
   "execution_count": 213,
   "id": "b7707ee9-c620-4795-b56f-e1444f12455d",
   "metadata": {},
   "outputs": [],
   "source": [
    "#Setup some visual properties=================================================================================================================\n",
    "plt.style.use('seaborn-v0_8')\n",
    "mpl.rcParams['font.family'] = \"sans-serif\"\n",
    "%matplotlib inline"
   ]
  },
  {
   "cell_type": "code",
   "execution_count": 214,
   "id": "5d921a00-e9eb-4286-954f-e1a127e2dc11",
   "metadata": {},
   "outputs": [
    {
     "name": "stdout",
     "output_type": "stream",
     "text": [
      "<class 'pandas.core.frame.DataFrame'>\n",
      "RangeIndex: 6000 entries, 0 to 5999\n",
      "Data columns (total 13 columns):\n",
      " #   Column         Non-Null Count  Dtype  \n",
      "---  ------         --------------  -----  \n",
      " 0   name           6000 non-null   object \n",
      " 1   year           6000 non-null   int64  \n",
      " 2   selling_price  6000 non-null   int64  \n",
      " 3   km_driven      6000 non-null   int64  \n",
      " 4   fuel           6000 non-null   object \n",
      " 5   seller_type    6000 non-null   object \n",
      " 6   transmission   6000 non-null   object \n",
      " 7   owner          6000 non-null   object \n",
      " 8   mileage        5841 non-null   object \n",
      " 9   engine         5841 non-null   object \n",
      " 10  max_power      5846 non-null   object \n",
      " 11  torque         5840 non-null   object \n",
      " 12  seats          5841 non-null   float64\n",
      "dtypes: float64(1), int64(3), object(9)\n",
      "memory usage: 609.5+ KB\n",
      "None\n",
      "<class 'pandas.core.frame.DataFrame'>\n",
      "RangeIndex: 2128 entries, 0 to 2127\n",
      "Data columns (total 13 columns):\n",
      " #   Column        Non-Null Count  Dtype  \n",
      "---  ------        --------------  -----  \n",
      " 0   id            2128 non-null   int64  \n",
      " 1   name          2128 non-null   object \n",
      " 2   year          2128 non-null   int64  \n",
      " 3   km_driven     2128 non-null   int64  \n",
      " 4   fuel          2128 non-null   object \n",
      " 5   seller_type   2128 non-null   object \n",
      " 6   transmission  2128 non-null   object \n",
      " 7   owner         2128 non-null   object \n",
      " 8   mileage       2066 non-null   object \n",
      " 9   engine        2066 non-null   object \n",
      " 10  max_power     2067 non-null   object \n",
      " 11  torque        2066 non-null   object \n",
      " 12  seats         2066 non-null   float64\n",
      "dtypes: float64(1), int64(3), object(9)\n",
      "memory usage: 216.3+ KB\n",
      "None\n"
     ]
    }
   ],
   "source": [
    "#Read files=====================================================================================================================\n",
    "train = pd.read_csv(\"Data/train.csv\", sep=\";\")\n",
    "print(train.info())\n",
    "\n",
    "test = pd.read_csv(\"Data/test.csv\", sep=\";\")\n",
    "print(test.info())"
   ]
  },
  {
   "cell_type": "markdown",
   "id": "80c3c2dd-e632-49d2-ac9d-59c031121835",
   "metadata": {},
   "source": [
    "## <span style=\"color:darkblue; font-weight:bold\"> B. Functions </span>"
   ]
  },
  {
   "cell_type": "code",
   "execution_count": 215,
   "id": "17969409-b5a7-4f10-b893-6a91d3eda3ad",
   "metadata": {},
   "outputs": [],
   "source": [
    "%run Helper_Functions.ipynb"
   ]
  },
  {
   "cell_type": "markdown",
   "id": "169f6479-5703-4a6c-a2bb-b4dfb2c8ca73",
   "metadata": {},
   "source": [
    "## <span style=\"color:darkblue; font-weight:bold\"> C. Cleaning training set </span>"
   ]
  },
  {
   "cell_type": "markdown",
   "id": "874271e8-e2b8-457c-9519-5359114c3597",
   "metadata": {},
   "source": [
    "## <span style=\"color:orange; font-weight:bold\"> name </span>\n",
    "\n",
    "__1.__ Extracting brand"
   ]
  },
  {
   "cell_type": "code",
   "execution_count": 216,
   "id": "7a687e4b-d95e-4f7e-bc45-aa4d8ed161b3",
   "metadata": {},
   "outputs": [
    {
     "data": {
      "text/plain": [
       "0                             Tata Nexon 1.5 Revotorq XM\n",
       "1                           Hyundai i20 Active SX Diesel\n",
       "2                                 Toyota Fortuner 4x2 AT\n",
       "3                              Hyundai Verna 1.6 VTVT SX\n",
       "4                         Volvo XC40 D4 Inscription BSIV\n",
       "                              ...                       \n",
       "5995                                   Maruti A-Star Lxi\n",
       "5996                              Maruti Wagon R LXI CNG\n",
       "5997                          Tata Tigor 1.2 Revotron XT\n",
       "5998    Mahindra Bolero 2011-2019 DI NON AC BS III White\n",
       "5999                               Honda Amaze SX i-DTEC\n",
       "Name: name, Length: 6000, dtype: object"
      ]
     },
     "execution_count": 216,
     "metadata": {},
     "output_type": "execute_result"
    }
   ],
   "source": [
    "train.name"
   ]
  },
  {
   "cell_type": "code",
   "execution_count": 217,
   "id": "81aa7df0-354a-4644-999d-1ba0f9c73dbd",
   "metadata": {},
   "outputs": [],
   "source": [
    "train[\"brand\"] = pd.Series([Extract_brand(x) for x in train.name])"
   ]
  },
  {
   "cell_type": "markdown",
   "id": "a01fa340-e6ac-4330-bbda-2256dbaf8d54",
   "metadata": {},
   "source": [
    "## <span style=\"color:orange; font-weight:bold\"> mileage </span>\n",
    "\n",
    "__1.__ Convert to numeric\n",
    "<br>__2.__ Convert into same metric"
   ]
  },
  {
   "cell_type": "code",
   "execution_count": 218,
   "id": "b9432e88-a073-410a-81d6-ea885bcbc9ec",
   "metadata": {},
   "outputs": [
    {
     "name": "stdout",
     "output_type": "stream",
     "text": [
      "<class 'str'>\n",
      "Number of levels: 372\n",
      "Number of NAs: 159\n",
      "Percentage of NAs: 0.0265\n"
     ]
    },
    {
     "data": {
      "text/plain": [
       "0        21.5 kmpl\n",
       "1       21.19 kmpl\n",
       "2       12.55 kmpl\n",
       "3       17.01 kmpl\n",
       "4        18.0 kmpl\n",
       "           ...    \n",
       "5995     19.0 kmpl\n",
       "5996    26.6 km/kg\n",
       "5997     20.3 kmpl\n",
       "5998    15.96 kmpl\n",
       "5999     25.8 kmpl\n",
       "Name: mileage, Length: 6000, dtype: object"
      ]
     },
     "execution_count": 218,
     "metadata": {},
     "output_type": "execute_result"
    }
   ],
   "source": [
    "print(type(train[\"mileage\"][0]))\n",
    "print(\"Number of levels:\", len(train[\"mileage\"].unique()))\n",
    "print(\"Number of NAs:\",  train[\"mileage\"].isna().sum())\n",
    "print(\"Percentage of NAs:\", train[\"mileage\"].isna().sum()/6000)\n",
    "train[\"mileage\"]"
   ]
  },
  {
   "cell_type": "code",
   "execution_count": 219,
   "id": "340eb6d0-f35b-484e-a204-59006897e79b",
   "metadata": {},
   "outputs": [
    {
     "name": "stdout",
     "output_type": "stream",
     "text": [
      "***Split value and unit\n"
     ]
    }
   ],
   "source": [
    "print(\"***Split value and unit\")\n",
    "mileage = train[\"mileage\"].copy()\n",
    "\n",
    "mileage_val = mileage.transform(SplitValue)\n",
    "mileage_unit = mileage.transform(SplitUnit)"
   ]
  },
  {
   "cell_type": "code",
   "execution_count": 220,
   "id": "ffd28767-c2c0-44db-b931-cb7ca199c897",
   "metadata": {},
   "outputs": [
    {
     "data": {
      "text/plain": [
       "array(['kmpl', <NA>, 'km/kg'], dtype=object)"
      ]
     },
     "execution_count": 220,
     "metadata": {},
     "output_type": "execute_result"
    }
   ],
   "source": [
    "mileage_unit.unique()"
   ]
  },
  {
   "cell_type": "code",
   "execution_count": 221,
   "id": "442c48ad-7f1d-4dc9-8fbb-b743ad7c766b",
   "metadata": {},
   "outputs": [
    {
     "name": "stdout",
     "output_type": "stream",
     "text": [
      "***Convert mileage to numeric:\n"
     ]
    }
   ],
   "source": [
    "print(\"***Convert mileage to numeric:\")\n",
    "mileage_val = mileage_val.transform(lambda x: float(x) if pd.isna(x)==False else np.nan)"
   ]
  },
  {
   "cell_type": "code",
   "execution_count": 222,
   "id": "053ed61d-f636-4f01-a977-5082822a62fe",
   "metadata": {},
   "outputs": [
    {
     "name": "stdout",
     "output_type": "stream",
     "text": [
      "[nan]\n"
     ]
    }
   ],
   "source": [
    "print(mileage_val[pd.isna(mileage_unit) == True].unique()) #Comment: All unit-missing mileage has value missing\n",
    "                                                           #         (which means all available mileage dont have their unit missing)"
   ]
  },
  {
   "cell_type": "code",
   "execution_count": 223,
   "id": "671b59b2-aa93-4b15-b677-180537a8495d",
   "metadata": {},
   "outputs": [
    {
     "name": "stdout",
     "output_type": "stream",
     "text": [
      "\n",
      "***Visual inspection:\n"
     ]
    },
    {
     "data": {
      "image/png": "[encoded data removed]",
      "text/plain": [
       "<Figure size 1000x600 with 4 Axes>"
      ]
     },
     "metadata": {},
     "output_type": "display_data"
    }
   ],
   "source": [
    "print(\"\\n***Visual inspection:\")\n",
    "fig, ((ax, ax1), (ax2, ax3)) = plt.subplots(2,2,figsize=(10,6))\n",
    "fig.subplots_adjust(wspace=0.5, hspace=0.5)\n",
    "\n",
    "mileage_val_kmpl = pd.concat([ mileage_val[mileage_unit == \"kmpl\"], train.loc[mileage_unit == \"kmpl\", \"fuel\"] ], axis=1)\n",
    "mileage_val_kmpl.boxplot(by=\"fuel\", ax=ax)\n",
    "ax.set_title(\"mileage in kmpl\")\n",
    "ax.set_xlabel(\"\")\n",
    "\n",
    "mileage_val_kmkg = pd.concat([ mileage_val[mileage_unit == \"km/kg\"], train.loc[mileage_unit == \"km/kg\", \"fuel\"] ], axis=1)\n",
    "mileage_val_kmkg.boxplot(by=\"fuel\", ax=ax1)\n",
    "ax1.set_title(\"mileage in km/kg\")\n",
    "ax1.set_xlabel(\"\")\n",
    "\n",
    "mileage_val_kmpl[\"mileage\"].plot(kind=\"box\", ax=ax2)\n",
    "ax2.set_title(\"mileage in kmpl\")\n",
    "\n",
    "mileage_val_kmkg[\"mileage\"].plot(kind=\"box\", ax=ax3)\n",
    "ax3.set_title(\"mileage in km/kg\")\n",
    "\n",
    "fig.suptitle(\"\")\n",
    "plt.show(); plt.close(\"all\")"
   ]
  },
  {
   "cell_type": "code",
   "execution_count": 224,
   "id": "27495afe-5338-42bd-b59b-c1f41df43184",
   "metadata": {},
   "outputs": [
    {
     "name": "stdout",
     "output_type": "stream",
     "text": [
      "***Investigating outliers:\n",
      "**Value = 0\n",
      "                                                   name  year  selling_price  \\\n",
      "343                      Mahindra Bolero Pik-Up FB 1.7T  2020         679000   \n",
      "721                              Hyundai Santro Xing GL  2009         120000   \n",
      "763                     Land Rover Freelander 2 TD4 HSE  2013        1650000   \n",
      "1266  Tata Indica Vista Aura Safire Anniversary Edition  2009         135000   \n",
      "1883                Mercedes-Benz M-Class ML 350 4Matic  2011        1700000   \n",
      "2068                       Hyundai Santro Xing (Non-AC)  2010         110000   \n",
      "2499                             Hyundai Santro Xing GL  2011         150000   \n",
      "2884                    Mahindra Bolero Pik-Up CBC 1.7T  2019         722000   \n",
      "4224                             Hyundai Santro Xing GL  2008         105000   \n",
      "4270                             Hyundai Santro Xing GL  2010         150000   \n",
      "5376                       Hyundai Santro Xing (Non-AC)  2013         184000   \n",
      "5402                Mercedes-Benz M-Class ML 350 4Matic  2011        1700000   \n",
      "5837                        Volkswagen Polo GT TSI BSIV  2014         574000   \n",
      "\n",
      "      km_driven    fuel seller_type transmission                 owner  \\\n",
      "343        5000  Diesel  Individual       Manual           First Owner   \n",
      "721       90000  Petrol  Individual       Manual          Second Owner   \n",
      "763       64788  Diesel      Dealer    Automatic           First Owner   \n",
      "1266      28900  Petrol  Individual       Manual          Second Owner   \n",
      "1883     110000  Diesel  Individual    Automatic           Third Owner   \n",
      "2068      80000  Petrol  Individual       Manual          Second Owner   \n",
      "2499      40000  Petrol  Individual       Manual  Fourth & Above Owner   \n",
      "2884      80000  Diesel  Individual       Manual           First Owner   \n",
      "4224     128000  Petrol  Individual       Manual           First Owner   \n",
      "4270     110000  Petrol  Individual       Manual           First Owner   \n",
      "5376      15000  Petrol  Individual       Manual           First Owner   \n",
      "5402     110000  Diesel  Individual    Automatic           Third Owner   \n",
      "5837      28080  Petrol      Dealer    Automatic           First Owner   \n",
      "\n",
      "       mileage   engine   max_power                torque  seats  \\\n",
      "343   0.0 kmpl  2523 CC      70 bhp   200Nm@ 1400-2200rpm    2.0   \n",
      "721   0.0 kmpl  1086 CC      62 bhp       96.1Nm@ 3000rpm    5.0   \n",
      "763   0.0 kmpl  2179 CC     115 bhp      400 Nm /2000 rpm    5.0   \n",
      "1266  0.0 kmpl  1172 CC      65 bhp  9.8@ 3,000(kgm@ rpm)    5.0   \n",
      "1883  0.0 kmpl  2987 CC     165 bhp        510@ 1600-2400    5.0   \n",
      "2068  0.0 kmpl  1086 CC    62.1 bhp       96.1Nm@ 3000rpm    5.0   \n",
      "2499  0.0 kmpl  1086 CC      62 bhp       96.1Nm@ 3000rpm    5.0   \n",
      "2884  0.0 kmpl  2523 CC      70 bhp   200Nm@ 1400-2200rpm    2.0   \n",
      "4224  0.0 kmpl  1086 CC      62 bhp       96.1Nm@ 3000rpm    5.0   \n",
      "4270  0.0 kmpl  1086 CC      62 bhp       96.1Nm@ 3000rpm    5.0   \n",
      "5376  0.0 kmpl  1086 CC    62.1 bhp       96.1Nm@ 3000rpm    5.0   \n",
      "5402  0.0 kmpl  2987 CC     165 bhp        510@ 1600-2400    5.0   \n",
      "5837  0.0 kmpl  1197 CC  103.25 bhp   175nm@ 1500-4100rpm    5.0   \n",
      "\n",
      "              brand  \n",
      "343        Mahindra  \n",
      "721         Hyundai  \n",
      "763      Land Rover  \n",
      "1266           Tata  \n",
      "1883  Mercedes-Benz  \n",
      "2068        Hyundai  \n",
      "2499        Hyundai  \n",
      "2884       Mahindra  \n",
      "4224        Hyundai  \n",
      "4270        Hyundai  \n",
      "5376        Hyundai  \n",
      "5402  Mercedes-Benz  \n",
      "5837     Volkswagen  \n",
      "**Extremely high values\n"
     ]
    },
    {
     "data": {
      "text/html": [
       "<div>\n",
       "<style scoped>\n",
       "    .dataframe tbody tr th:only-of-type {\n",
       "        vertical-align: middle;\n",
       "    }\n",
       "\n",
       "    .dataframe tbody tr th {\n",
       "        vertical-align: top;\n",
       "    }\n",
       "\n",
       "    .dataframe thead th {\n",
       "        text-align: right;\n",
       "    }\n",
       "</style>\n",
       "<table border=\"1\" class=\"dataframe\">\n",
       "  <thead>\n",
       "    <tr style=\"text-align: right;\">\n",
       "      <th></th>\n",
       "      <th>name</th>\n",
       "      <th>year</th>\n",
       "      <th>selling_price</th>\n",
       "      <th>km_driven</th>\n",
       "      <th>fuel</th>\n",
       "      <th>seller_type</th>\n",
       "      <th>transmission</th>\n",
       "      <th>owner</th>\n",
       "      <th>mileage</th>\n",
       "      <th>engine</th>\n",
       "      <th>max_power</th>\n",
       "      <th>torque</th>\n",
       "      <th>seats</th>\n",
       "      <th>brand</th>\n",
       "    </tr>\n",
       "  </thead>\n",
       "  <tbody>\n",
       "    <tr>\n",
       "      <th>5537</th>\n",
       "      <td>Volvo XC90 T8 Excellence BSIV</td>\n",
       "      <td>2017</td>\n",
       "      <td>10000000</td>\n",
       "      <td>30000</td>\n",
       "      <td>Petrol</td>\n",
       "      <td>Individual</td>\n",
       "      <td>Automatic</td>\n",
       "      <td>First Owner</td>\n",
       "      <td>42.0 kmpl</td>\n",
       "      <td>1969 CC</td>\n",
       "      <td>400 bhp</td>\n",
       "      <td>640Nm@ 1740rpm</td>\n",
       "      <td>4.0</td>\n",
       "      <td>Volvo</td>\n",
       "    </tr>\n",
       "  </tbody>\n",
       "</table>\n",
       "</div>"
      ],
      "text/plain": [
       "                               name  year  selling_price  km_driven    fuel  \\\n",
       "5537  Volvo XC90 T8 Excellence BSIV  2017       10000000      30000  Petrol   \n",
       "\n",
       "     seller_type transmission        owner    mileage   engine max_power  \\\n",
       "5537  Individual    Automatic  First Owner  42.0 kmpl  1969 CC   400 bhp   \n",
       "\n",
       "              torque  seats  brand  \n",
       "5537  640Nm@ 1740rpm    4.0  Volvo  "
      ]
     },
     "execution_count": 224,
     "metadata": {},
     "output_type": "execute_result"
    }
   ],
   "source": [
    "print(\"***Investigating outliers:\")\n",
    "print(\"**Value = 0\")\n",
    "location = mileage_val[mileage_val == 0].index\n",
    "train.iloc[location].pipe(print)\n",
    "\n",
    "print(\"**Extremely high values\")\n",
    "location = mileage_val[mileage_val >=40].index\n",
    "train.iloc[location]"
   ]
  },
  {
   "cell_type": "code",
   "execution_count": 225,
   "id": "1bdced82-4ea6-4eeb-8f2c-3b364fcf2a6f",
   "metadata": {},
   "outputs": [
    {
     "name": "stdout",
     "output_type": "stream",
     "text": [
      "***Convert mileage_val = 0 to NaN\n"
     ]
    }
   ],
   "source": [
    "print(\"***Convert mileage_val = 0 to NaN\")\n",
    "for i in range(len(mileage_val)):\n",
    "    if (pd.isna(mileage_val[i])==False) & (mileage_val[i]==0):\n",
    "        mileage_val[i] = np.nan"
   ]
  },
  {
   "cell_type": "code",
   "execution_count": 226,
   "id": "19a6fe6e-d069-4117-b8b5-f69b9a6b94a0",
   "metadata": {},
   "outputs": [
    {
     "name": "stdout",
     "output_type": "stream",
     "text": [
      "***Covert into km/kg:\n",
      "Formula: km/kg = kmpl / density\n",
      "<class 'pandas.core.series.Series'>\n",
      "RangeIndex: 6000 entries, 0 to 5999\n",
      "Series name: mileage\n",
      "Non-Null Count  Dtype  \n",
      "--------------  -----  \n",
      "5828 non-null   float64\n",
      "dtypes: float64(1)\n",
      "memory usage: 47.0 KB\n"
     ]
    },
    {
     "data": {
      "text/plain": [
       "array(['km/kg', <NA>], dtype=object)"
      ]
     },
     "execution_count": 226,
     "metadata": {},
     "output_type": "execute_result"
    }
   ],
   "source": [
    "print(\"***Covert into km/kg:\")\n",
    "print(\"Formula: km/kg = kmpl / density\")\n",
    "fuel = train[\"fuel\"].copy()\n",
    "density = fuel.transform(Density)\n",
    "\n",
    "for i in range(len(mileage_val)):\n",
    "    if (pd.isna(mileage_unit[i])==False) & (mileage_unit[i] == \"kmpl\"):\n",
    "        mileage_unit[i] = \"km/kg\"\n",
    "        mileage_val[i] = mileage_val[i] / density[i]\n",
    "\n",
    "mileage_val.info()\n",
    "mileage_unit.unique()"
   ]
  },
  {
   "cell_type": "code",
   "execution_count": 227,
   "id": "fece2f8f-2942-4ea8-836b-70b00c2cbf1c",
   "metadata": {},
   "outputs": [],
   "source": [
    "train[\"mileage\"] = mileage_val"
   ]
  },
  {
   "cell_type": "markdown",
   "id": "afd142f3-42a7-4f14-bc0e-8c4894ba5037",
   "metadata": {},
   "source": [
    "## <span style=\"color:orange; font-weight:bold\"> engine </span>\n",
    "__1.__ Convert to numeric"
   ]
  },
  {
   "cell_type": "code",
   "execution_count": 228,
   "id": "237f106c-06bc-4236-a5b9-7c3bb69d5525",
   "metadata": {},
   "outputs": [
    {
     "name": "stdout",
     "output_type": "stream",
     "text": [
      "<class 'str'>\n",
      "Number of levels: 119\n",
      "Percentage of NAs: 0.0265\n"
     ]
    },
    {
     "data": {
      "text/plain": [
       "0       1497 CC\n",
       "1       1396 CC\n",
       "2       2982 CC\n",
       "3       1591 CC\n",
       "4       1969 CC\n",
       "         ...   \n",
       "5995     998 CC\n",
       "5996     998 CC\n",
       "5997    1199 CC\n",
       "5998    2523 CC\n",
       "5999    1498 CC\n",
       "Name: engine, Length: 6000, dtype: object"
      ]
     },
     "execution_count": 228,
     "metadata": {},
     "output_type": "execute_result"
    }
   ],
   "source": [
    "print(type(train[\"engine\"][0]))\n",
    "print(\"Number of levels:\", len(train[\"engine\"].unique()))\n",
    "print(\"Percentage of NAs:\", train[\"engine\"].isna().sum()/6000)\n",
    "train[\"engine\"]"
   ]
  },
  {
   "cell_type": "code",
   "execution_count": 229,
   "id": "37bff693-58c9-4170-83c7-32072e291a49",
   "metadata": {},
   "outputs": [
    {
     "name": "stdout",
     "output_type": "stream",
     "text": [
      "***Split value and unit:\n"
     ]
    },
    {
     "data": {
      "text/plain": [
       "array(['CC', <NA>], dtype=object)"
      ]
     },
     "execution_count": 229,
     "metadata": {},
     "output_type": "execute_result"
    }
   ],
   "source": [
    "print(\"***Split value and unit:\")\n",
    "engine = train[\"engine\"].copy()\n",
    "\n",
    "engine_val = engine.transform(SplitValue)\n",
    "engine_unit = engine.transform(SplitUnit)\n",
    "\n",
    "engine_unit.unique()"
   ]
  },
  {
   "cell_type": "code",
   "execution_count": 230,
   "id": "211f396c-ed9e-4b49-a140-bd666a02d2a4",
   "metadata": {},
   "outputs": [
    {
     "name": "stdout",
     "output_type": "stream",
     "text": [
      "***Convert engine to numeric:\n",
      "<class 'pandas.core.series.Series'>\n",
      "RangeIndex: 6000 entries, 0 to 5999\n",
      "Series name: engine\n",
      "Non-Null Count  Dtype  \n",
      "--------------  -----  \n",
      "5841 non-null   float64\n",
      "dtypes: float64(1)\n",
      "memory usage: 47.0 KB\n"
     ]
    }
   ],
   "source": [
    "print(\"***Convert engine to numeric:\")\n",
    "engine_val = engine_val.transform(lambda x: float(x) if pd.isna(x)==False else np.nan)\n",
    "engine_val.info()"
   ]
  },
  {
   "cell_type": "code",
   "execution_count": 231,
   "id": "f5a41f7e-0858-41d7-8bb7-a226bbf0a457",
   "metadata": {},
   "outputs": [
    {
     "name": "stdout",
     "output_type": "stream",
     "text": [
      "***Visual inspection:\n"
     ]
    },
    {
     "data": {
      "image/png": "[encoded data removed]",
      "text/plain": [
       "<Figure size 400x300 with 1 Axes>"
      ]
     },
     "metadata": {},
     "output_type": "display_data"
    },
    {
     "name": "stdout",
     "output_type": "stream",
     "text": [
      "**Investigating outliers :\n"
     ]
    },
    {
     "data": {
      "text/html": [
       "<div>\n",
       "<style scoped>\n",
       "    .dataframe tbody tr th:only-of-type {\n",
       "        vertical-align: middle;\n",
       "    }\n",
       "\n",
       "    .dataframe tbody tr th {\n",
       "        vertical-align: top;\n",
       "    }\n",
       "\n",
       "    .dataframe thead th {\n",
       "        text-align: right;\n",
       "    }\n",
       "</style>\n",
       "<table border=\"1\" class=\"dataframe\">\n",
       "  <thead>\n",
       "    <tr style=\"text-align: right;\">\n",
       "      <th></th>\n",
       "      <th>name</th>\n",
       "      <th>year</th>\n",
       "      <th>selling_price</th>\n",
       "      <th>km_driven</th>\n",
       "      <th>fuel</th>\n",
       "      <th>seller_type</th>\n",
       "      <th>transmission</th>\n",
       "      <th>owner</th>\n",
       "      <th>mileage</th>\n",
       "      <th>engine</th>\n",
       "      <th>max_power</th>\n",
       "      <th>torque</th>\n",
       "      <th>seats</th>\n",
       "      <th>brand</th>\n",
       "    </tr>\n",
       "  </thead>\n",
       "  <tbody>\n",
       "    <tr>\n",
       "      <th>733</th>\n",
       "      <td>Ford Endeavour 3.2 Titanium AT 4X4</td>\n",
       "      <td>2018</td>\n",
       "      <td>3250000</td>\n",
       "      <td>12000</td>\n",
       "      <td>Diesel</td>\n",
       "      <td>Individual</td>\n",
       "      <td>Automatic</td>\n",
       "      <td>First Owner</td>\n",
       "      <td>13.144578</td>\n",
       "      <td>3198 CC</td>\n",
       "      <td>197 bhp</td>\n",
       "      <td>470Nm@ 1750-2500rpm</td>\n",
       "      <td>7.0</td>\n",
       "      <td>Ford</td>\n",
       "    </tr>\n",
       "    <tr>\n",
       "      <th>1287</th>\n",
       "      <td>Ford Endeavour 3.2 Titanium AT 4X4</td>\n",
       "      <td>2018</td>\n",
       "      <td>3200000</td>\n",
       "      <td>35000</td>\n",
       "      <td>Diesel</td>\n",
       "      <td>Individual</td>\n",
       "      <td>Automatic</td>\n",
       "      <td>First Owner</td>\n",
       "      <td>13.144578</td>\n",
       "      <td>3198 CC</td>\n",
       "      <td>197 bhp</td>\n",
       "      <td>470Nm@ 1750-2500rpm</td>\n",
       "      <td>7.0</td>\n",
       "      <td>Ford</td>\n",
       "    </tr>\n",
       "    <tr>\n",
       "      <th>1426</th>\n",
       "      <td>Ford Endeavour 3.2 Titanium AT 4X4</td>\n",
       "      <td>2018</td>\n",
       "      <td>3250000</td>\n",
       "      <td>12000</td>\n",
       "      <td>Diesel</td>\n",
       "      <td>Individual</td>\n",
       "      <td>Automatic</td>\n",
       "      <td>First Owner</td>\n",
       "      <td>13.144578</td>\n",
       "      <td>3198 CC</td>\n",
       "      <td>197 bhp</td>\n",
       "      <td>470Nm@ 1750-2500rpm</td>\n",
       "      <td>7.0</td>\n",
       "      <td>Ford</td>\n",
       "    </tr>\n",
       "    <tr>\n",
       "      <th>2630</th>\n",
       "      <td>Ford Endeavour 3.2 Titanium AT 4X4</td>\n",
       "      <td>2016</td>\n",
       "      <td>2100000</td>\n",
       "      <td>80000</td>\n",
       "      <td>Diesel</td>\n",
       "      <td>Individual</td>\n",
       "      <td>Automatic</td>\n",
       "      <td>First Owner</td>\n",
       "      <td>13.144578</td>\n",
       "      <td>3198 CC</td>\n",
       "      <td>197 bhp</td>\n",
       "      <td>470Nm@ 1750-2500rpm</td>\n",
       "      <td>7.0</td>\n",
       "      <td>Ford</td>\n",
       "    </tr>\n",
       "    <tr>\n",
       "      <th>2918</th>\n",
       "      <td>Ford Endeavour 3.2 Titanium AT 4X4</td>\n",
       "      <td>2016</td>\n",
       "      <td>2280000</td>\n",
       "      <td>120000</td>\n",
       "      <td>Diesel</td>\n",
       "      <td>Individual</td>\n",
       "      <td>Automatic</td>\n",
       "      <td>Second Owner</td>\n",
       "      <td>13.144578</td>\n",
       "      <td>3198 CC</td>\n",
       "      <td>197 bhp</td>\n",
       "      <td>470Nm@ 1750-2500rpm</td>\n",
       "      <td>7.0</td>\n",
       "      <td>Ford</td>\n",
       "    </tr>\n",
       "    <tr>\n",
       "      <th>256</th>\n",
       "      <td>Mercedes-Benz E-Class E350 Petrol</td>\n",
       "      <td>2009</td>\n",
       "      <td>1000000</td>\n",
       "      <td>80000</td>\n",
       "      <td>Petrol</td>\n",
       "      <td>Individual</td>\n",
       "      <td>Automatic</td>\n",
       "      <td>Third Owner</td>\n",
       "      <td>14.770270</td>\n",
       "      <td>3498 CC</td>\n",
       "      <td>272 bhp</td>\n",
       "      <td>355Nm@ 4500rpm</td>\n",
       "      <td>5.0</td>\n",
       "      <td>Mercedes-Benz</td>\n",
       "    </tr>\n",
       "    <tr>\n",
       "      <th>1510</th>\n",
       "      <td>Jeep Wrangler 2016-2019 3.6 4X4</td>\n",
       "      <td>2017</td>\n",
       "      <td>4100000</td>\n",
       "      <td>17000</td>\n",
       "      <td>Petrol</td>\n",
       "      <td>Individual</td>\n",
       "      <td>Automatic</td>\n",
       "      <td>First Owner</td>\n",
       "      <td>12.837838</td>\n",
       "      <td>3604 CC</td>\n",
       "      <td>280 bhp</td>\n",
       "      <td>347Nm@ 4300rpm</td>\n",
       "      <td>5.0</td>\n",
       "      <td>Jeep</td>\n",
       "    </tr>\n",
       "    <tr>\n",
       "      <th>4882</th>\n",
       "      <td>Jeep Wrangler 2016-2019 3.6 4X4</td>\n",
       "      <td>2017</td>\n",
       "      <td>4100000</td>\n",
       "      <td>17000</td>\n",
       "      <td>Petrol</td>\n",
       "      <td>Individual</td>\n",
       "      <td>Automatic</td>\n",
       "      <td>First Owner</td>\n",
       "      <td>12.837838</td>\n",
       "      <td>3604 CC</td>\n",
       "      <td>280 bhp</td>\n",
       "      <td>347Nm@ 4300rpm</td>\n",
       "      <td>5.0</td>\n",
       "      <td>Jeep</td>\n",
       "    </tr>\n",
       "    <tr>\n",
       "      <th>5686</th>\n",
       "      <td>Jeep Wrangler 2016-2019 3.6 4X4</td>\n",
       "      <td>2017</td>\n",
       "      <td>4100000</td>\n",
       "      <td>17000</td>\n",
       "      <td>Petrol</td>\n",
       "      <td>Individual</td>\n",
       "      <td>Automatic</td>\n",
       "      <td>First Owner</td>\n",
       "      <td>12.837838</td>\n",
       "      <td>3604 CC</td>\n",
       "      <td>280 bhp</td>\n",
       "      <td>347Nm@ 4300rpm</td>\n",
       "      <td>5.0</td>\n",
       "      <td>Jeep</td>\n",
       "    </tr>\n",
       "  </tbody>\n",
       "</table>\n",
       "</div>"
      ],
      "text/plain": [
       "                                    name  year  selling_price  km_driven  \\\n",
       "733   Ford Endeavour 3.2 Titanium AT 4X4  2018        3250000      12000   \n",
       "1287  Ford Endeavour 3.2 Titanium AT 4X4  2018        3200000      35000   \n",
       "1426  Ford Endeavour 3.2 Titanium AT 4X4  2018        3250000      12000   \n",
       "2630  Ford Endeavour 3.2 Titanium AT 4X4  2016        2100000      80000   \n",
       "2918  Ford Endeavour 3.2 Titanium AT 4X4  2016        2280000     120000   \n",
       "256    Mercedes-Benz E-Class E350 Petrol  2009        1000000      80000   \n",
       "1510     Jeep Wrangler 2016-2019 3.6 4X4  2017        4100000      17000   \n",
       "4882     Jeep Wrangler 2016-2019 3.6 4X4  2017        4100000      17000   \n",
       "5686     Jeep Wrangler 2016-2019 3.6 4X4  2017        4100000      17000   \n",
       "\n",
       "        fuel seller_type transmission         owner    mileage   engine  \\\n",
       "733   Diesel  Individual    Automatic   First Owner  13.144578  3198 CC   \n",
       "1287  Diesel  Individual    Automatic   First Owner  13.144578  3198 CC   \n",
       "1426  Diesel  Individual    Automatic   First Owner  13.144578  3198 CC   \n",
       "2630  Diesel  Individual    Automatic   First Owner  13.144578  3198 CC   \n",
       "2918  Diesel  Individual    Automatic  Second Owner  13.144578  3198 CC   \n",
       "256   Petrol  Individual    Automatic   Third Owner  14.770270  3498 CC   \n",
       "1510  Petrol  Individual    Automatic   First Owner  12.837838  3604 CC   \n",
       "4882  Petrol  Individual    Automatic   First Owner  12.837838  3604 CC   \n",
       "5686  Petrol  Individual    Automatic   First Owner  12.837838  3604 CC   \n",
       "\n",
       "     max_power               torque  seats          brand  \n",
       "733    197 bhp  470Nm@ 1750-2500rpm    7.0           Ford  \n",
       "1287   197 bhp  470Nm@ 1750-2500rpm    7.0           Ford  \n",
       "1426   197 bhp  470Nm@ 1750-2500rpm    7.0           Ford  \n",
       "2630   197 bhp  470Nm@ 1750-2500rpm    7.0           Ford  \n",
       "2918   197 bhp  470Nm@ 1750-2500rpm    7.0           Ford  \n",
       "256    272 bhp       355Nm@ 4500rpm    5.0  Mercedes-Benz  \n",
       "1510   280 bhp       347Nm@ 4300rpm    5.0           Jeep  \n",
       "4882   280 bhp       347Nm@ 4300rpm    5.0           Jeep  \n",
       "5686   280 bhp       347Nm@ 4300rpm    5.0           Jeep  "
      ]
     },
     "execution_count": 231,
     "metadata": {},
     "output_type": "execute_result"
    }
   ],
   "source": [
    "print(\"***Visual inspection:\")\n",
    "fig, ax = plt.subplots(figsize=(4,3))\n",
    "ax.boxplot(x = engine_val.dropna())\n",
    "\n",
    "plt.show(); plt.close(\"all\")\n",
    "\n",
    "print(\"**Investigating outliers :\")\n",
    "location = engine_val[engine_val > 3000].sort_values().index\n",
    "train.iloc[location]"
   ]
  },
  {
   "cell_type": "code",
   "execution_count": 232,
   "id": "4f6db84c-910a-4865-9007-2afb7413c7a2",
   "metadata": {},
   "outputs": [],
   "source": [
    "train[\"engine\"] = engine_val"
   ]
  },
  {
   "cell_type": "markdown",
   "id": "8617ffac-19fc-42f3-aeae-d6cea7a65343",
   "metadata": {},
   "source": [
    "## <span style=\"color:orange; font-weight:bold\"> Part 10: max_power </span>\n",
    "__1.__ Convert to numeric"
   ]
  },
  {
   "cell_type": "code",
   "execution_count": 233,
   "id": "33826e42-cf7c-4474-bd90-1014fdd0d324",
   "metadata": {},
   "outputs": [
    {
     "name": "stdout",
     "output_type": "stream",
     "text": [
      "<class 'str'>\n",
      "Number of levels: 304\n",
      "Percentage of NAs: 0.025666666666666667\n"
     ]
    },
    {
     "data": {
      "text/plain": [
       "4681     bhp\n",
       "5131       0\n",
       "3013       0\n",
       "930        0\n",
       "2629       0\n",
       "        ... \n",
       "5704     NaN\n",
       "5810     NaN\n",
       "5881     NaN\n",
       "5903     NaN\n",
       "5913     NaN\n",
       "Name: max_power, Length: 6000, dtype: object"
      ]
     },
     "execution_count": 233,
     "metadata": {},
     "output_type": "execute_result"
    }
   ],
   "source": [
    "print(type(train[\"max_power\"][0]))\n",
    "print(\"Number of levels:\", len(train[\"max_power\"].unique()))\n",
    "print(\"Percentage of NAs:\", train[\"max_power\"].isna().sum()/6000)\n",
    "train[\"max_power\"].sort_values()"
   ]
  },
  {
   "cell_type": "code",
   "execution_count": 234,
   "id": "1bc656dc-49d3-4c9f-b4e3-9e9de1d5eae5",
   "metadata": {},
   "outputs": [
    {
     "name": "stdout",
     "output_type": "stream",
     "text": [
      "***Split value and unit:\n"
     ]
    },
    {
     "data": {
      "text/plain": [
       "array(['bhp', <NA>], dtype=object)"
      ]
     },
     "execution_count": 234,
     "metadata": {},
     "output_type": "execute_result"
    }
   ],
   "source": [
    "print(\"***Split value and unit:\")\n",
    "max_power = train[\"max_power\"].copy()\n",
    "\n",
    "max_power_val = max_power.transform(SplitValue)\n",
    "max_power_unit = max_power.transform(SplitUnit)\n",
    "\n",
    "max_power_unit.unique()"
   ]
  },
  {
   "cell_type": "code",
   "execution_count": 235,
   "id": "1668c27a-9909-4195-8104-5e51c41dba30",
   "metadata": {},
   "outputs": [
    {
     "name": "stdout",
     "output_type": "stream",
     "text": [
      "***Convert max_power to numeric:\n",
      "<class 'pandas.core.series.Series'>\n",
      "RangeIndex: 6000 entries, 0 to 5999\n",
      "Series name: max_power\n",
      "Non-Null Count  Dtype  \n",
      "--------------  -----  \n",
      "5845 non-null   float64\n",
      "dtypes: float64(1)\n",
      "memory usage: 47.0 KB\n"
     ]
    }
   ],
   "source": [
    "print(\"***Convert max_power to numeric:\")\n",
    "max_power_val = max_power_val.transform(lambda x: np.nan if (pd.isna(x)==False) & (x==\"bhp\") else x).transform(lambda x: float(x) if pd.isna(x)==False else np.nan)\n",
    "max_power_val.info()"
   ]
  },
  {
   "cell_type": "code",
   "execution_count": 236,
   "id": "686a3e13-7495-4705-91d6-876a592be851",
   "metadata": {},
   "outputs": [
    {
     "name": "stdout",
     "output_type": "stream",
     "text": [
      "***Visual inspection:\n"
     ]
    },
    {
     "data": {
      "image/png": "[encoded data removed]",
      "text/plain": [
       "<Figure size 400x300 with 1 Axes>"
      ]
     },
     "metadata": {},
     "output_type": "display_data"
    },
    {
     "name": "stdout",
     "output_type": "stream",
     "text": [
      "**Investigating outliers :\n",
      "                                 name  year  selling_price  km_driven    fuel  \\\n",
      "930   Maruti Swift Dzire VDI Optional  2017         589000      41232  Diesel   \n",
      "2213              Maruti Alto K10 LXI  2011         204999      97500  Petrol   \n",
      "2629              Maruti Alto K10 LXI  2011         204999      97500  Petrol   \n",
      "3013   Tata Indica Vista Quadrajet LS  2012         240000      70000  Diesel   \n",
      "5131  Maruti Swift Dzire VDI Optional  2017         589000      41232  Diesel   \n",
      "\n",
      "     seller_type transmission        owner  mileage  engine max_power torque  \\\n",
      "930       Dealer       Manual  First Owner      NaN     NaN         0    NaN   \n",
      "2213  Individual       Manual  First Owner      NaN     NaN         0    NaN   \n",
      "2629  Individual       Manual  First Owner      NaN     NaN         0    NaN   \n",
      "3013  Individual       Manual  First Owner      NaN     NaN         0    NaN   \n",
      "5131      Dealer       Manual  First Owner      NaN     NaN         0    NaN   \n",
      "\n",
      "      seats   brand  \n",
      "930     NaN  Maruti  \n",
      "2213    NaN  Maruti  \n",
      "2629    NaN  Maruti  \n",
      "3013    NaN    Tata  \n",
      "5131    NaN  Maruti  \n"
     ]
    }
   ],
   "source": [
    "print(\"***Visual inspection:\")\n",
    "fig, ax = plt.subplots(figsize=(4,3))\n",
    "ax.boxplot(x = max_power_val.dropna())\n",
    "\n",
    "plt.show(); plt.close(\"all\")\n",
    "\n",
    "print(\"**Investigating outliers :\")\n",
    "location = max_power_val[max_power_val == 0].index\n",
    "train.iloc[location].pipe(print)"
   ]
  },
  {
   "cell_type": "code",
   "execution_count": 237,
   "id": "fccbddfd-78df-4a74-9ee5-c25c15fb8644",
   "metadata": {},
   "outputs": [
    {
     "name": "stdout",
     "output_type": "stream",
     "text": [
      "***Convert 0 max_power to np.nan\n"
     ]
    }
   ],
   "source": [
    "print(\"***Convert 0 max_power to np.nan\")\n",
    "for i, val in enumerate(max_power_val):\n",
    "    if val==0:\n",
    "        max_power_val[i] = np.nan"
   ]
  },
  {
   "cell_type": "code",
   "execution_count": 238,
   "id": "c4712899-cba3-4431-8cba-477cb5dca848",
   "metadata": {},
   "outputs": [],
   "source": [
    "train[\"max_power\"] = max_power_val"
   ]
  },
  {
   "cell_type": "markdown",
   "id": "aad2a48d-d7fd-41ff-b9c4-9fa44af28c4d",
   "metadata": {},
   "source": [
    "## <span style=\"color:orange; font-weight:bold\"> torque </span>\n",
    "__1.__ Extract the 1st number"
   ]
  },
  {
   "cell_type": "code",
   "execution_count": 239,
   "id": "77363068-d7ef-48f6-9abe-dcb26bcaf73f",
   "metadata": {},
   "outputs": [
    {
     "name": "stdout",
     "output_type": "stream",
     "text": [
      "<class 'str'>\n",
      "Number of levels: 414\n",
      "Percentage of NAs: 0.02666666666666667\n"
     ]
    },
    {
     "data": {
      "text/plain": [
       "0          260Nm@ 1500-2750rpm\n",
       "1       219.66nm@ 1500-2750rpm\n",
       "2          360Nm@ 1400-3200rpm\n",
       "3             154.9Nm@ 4200rpm\n",
       "4                        400Nm\n",
       "                 ...          \n",
       "5995             90Nm@ 3500rpm\n",
       "5996             77Nm@ 3500rpm\n",
       "5997            114Nm@ 3500rpm\n",
       "5998       180Nm@ 1440-1500rpm\n",
       "5999            200Nm@ 1750rpm\n",
       "Name: torque, Length: 6000, dtype: object"
      ]
     },
     "execution_count": 239,
     "metadata": {},
     "output_type": "execute_result"
    }
   ],
   "source": [
    "print(type(train[\"torque\"][0]))\n",
    "print(\"Number of levels:\", len(train[\"torque\"].unique()))\n",
    "print(\"Percentage of NAs:\", train[\"torque\"].isna().sum()/6000)\n",
    "train[\"torque\"]"
   ]
  },
  {
   "cell_type": "code",
   "execution_count": 240,
   "id": "15df008e",
   "metadata": {},
   "outputs": [
    {
     "data": {
      "text/plain": [
       "0              153Nm@ 3800rpm\n",
       "1              145Nm@ 4600rpm\n",
       "2              114Nm@ 4000rpm\n",
       "3         290Nm@ 1800-2800rpm\n",
       "4         215Nm@ 1750-2500rpm\n",
       "                ...          \n",
       "2123        113.75Nm@ 4000rpm\n",
       "2124           190Nm@ 2000rpm\n",
       "2125            85Nm@ 2500rpm\n",
       "2126    259.9Nm@ 1900-2750rpm\n",
       "2127           113Nm@ 4200rpm\n",
       "Name: torque, Length: 2128, dtype: object"
      ]
     },
     "execution_count": 240,
     "metadata": {},
     "output_type": "execute_result"
    }
   ],
   "source": [
    "torque"
   ]
  },
  {
   "cell_type": "code",
   "execution_count": 241,
   "id": "08097e3c-0a3c-448f-bc55-0f56fdcdf228",
   "metadata": {},
   "outputs": [
    {
     "name": "stdout",
     "output_type": "stream",
     "text": [
      "***Split value and unit:\n",
      "['nm' <NA> 'kgm']\n"
     ]
    }
   ],
   "source": [
    "print(\"***Split value and unit:\")\n",
    "torque = train[\"torque\"].copy()\n",
    "\n",
    "torque_val = torque.transform(TorqueVal)\n",
    "torque_unit = torque.transform(TorqueUnit)\n",
    "\n",
    "print(torque_unit.unique())"
   ]
  },
  {
   "cell_type": "code",
   "execution_count": 242,
   "id": "e24164f8-0963-4d76-8b7a-eb2c2d8e1992",
   "metadata": {},
   "outputs": [
    {
     "name": "stdout",
     "output_type": "stream",
     "text": [
      "\n",
      "***Convert to numeric:\n",
      "<class 'pandas.core.series.Series'>\n",
      "RangeIndex: 6000 entries, 0 to 5999\n",
      "Series name: torque\n",
      "Non-Null Count  Dtype  \n",
      "--------------  -----  \n",
      "5840 non-null   float64\n",
      "dtypes: float64(1)\n",
      "memory usage: 47.0 KB\n"
     ]
    }
   ],
   "source": [
    "print(\"\\n***Convert to numeric:\")\n",
    "torque_val = torque_val.transform(lambda x: float(x) if pd.isna(x)==False else np.nan)\n",
    "torque_val.info()"
   ]
  },
  {
   "cell_type": "code",
   "execution_count": 243,
   "id": "ee57b31a-082c-4efa-b8a9-c7b7ab471198",
   "metadata": {},
   "outputs": [
    {
     "name": "stdout",
     "output_type": "stream",
     "text": [
      "***Visual inspection:\n"
     ]
    },
    {
     "data": {
      "image/png": "[encoded data removed]",
      "text/plain": [
       "<Figure size 1000x300 with 3 Axes>"
      ]
     },
     "metadata": {},
     "output_type": "display_data"
    },
    {
     "name": "stdout",
     "output_type": "stream",
     "text": [
      "\n",
      "**Investigating outliers in nm:\n",
      "              name          torque  engine    mileage  selling_price\n",
      "1201  Maruti Zen D  789Nm@ 2250rpm  1527.0  25.060241          80000\n",
      "5767  Maruti Zen D  789Nm@ 2250rpm  1527.0  25.060241          85000\n",
      "5865  Maruti Zen D  789Nm@ 2250rpm  1527.0  25.060241         120000\n",
      "\n",
      "**Investigating outliers in kgm:\n",
      "                                   name                     torque  engine  \\\n",
      "4979                  BMW 5 Series 530d  51@ 1,750-3,000(kgm@ rpm)  2993.0   \n",
      "4643      Mahindra Logan Petrol 1.4 GLE       110@ 3,000(kgm@ rpm)  1390.0   \n",
      "603             Tata Sumo GX 7 Str BSII        115@ 2500(kgm@ rpm)  1948.0   \n",
      "1269              Tata Sumo CX 9 Seater       115@ 2,500(kgm@ rpm)  1948.0   \n",
      "3149        Tata Sumo EX 10/7 Str BSIII       115@ 2,500(kgm@ rpm)  1948.0   \n",
      "2633        Tata Sumo EX 10/7 Str BSIII       115@ 2,500(kgm@ rpm)  1948.0   \n",
      "2093              Tata Sumo CX 9 Seater       115@ 2,500(kgm@ rpm)  1948.0   \n",
      "330               Ford Ikon 1.6 EXi NXt        130@ 2500(kgm@ rpm)  1597.0   \n",
      "761                   Ford Ikon 1.6 Nxt        130@ 2500(kgm@ rpm)  1597.0   \n",
      "2115  Maruti SX4 Zxi with Leather BSIII       145@ 4,100(kgm@ rpm)  1586.0   \n",
      "1137               Maruti SX4 Vxi BSIII       145@ 4,100(kgm@ rpm)  1586.0   \n",
      "1670  Maruti SX4 Zxi with Leather BSIII       145@ 4,100(kgm@ rpm)  1586.0   \n",
      "3221               Maruti SX4 Vxi BSIII       145@ 4,100(kgm@ rpm)  1586.0   \n",
      "2686               Maruti SX4 Zxi BSIII       145@ 4,100(kgm@ rpm)  1586.0   \n",
      "4841               Maruti SX4 Zxi BSIII       145@ 4,100(kgm@ rpm)  1586.0   \n",
      "5138               Maruti SX4 Zxi BSIII       145@ 4,100(kgm@ rpm)  1586.0   \n",
      "5233               Maruti SX4 Vxi BSIII       145@ 4,100(kgm@ rpm)  1586.0   \n",
      "4698                    Tata Sumo EX TC      190@ 21,800(kgm@ rpm)  1948.0   \n",
      "\n",
      "        mileage  selling_price  \n",
      "4979  19.518072        2000000  \n",
      "4643  21.216216         200000  \n",
      "603   16.506024         130000  \n",
      "1269  14.698795         150000  \n",
      "3149  14.698795         200000  \n",
      "2633  14.698795         200000  \n",
      "2093  14.698795         150000  \n",
      "330   19.189189         150000  \n",
      "761   19.189189         100000  \n",
      "2115  21.081081         150000  \n",
      "1137  20.270270         125000  \n",
      "1670  21.081081         111000  \n",
      "3221  20.270270         250000  \n",
      "2686  20.270270         200000  \n",
      "4841  20.270270         300000  \n",
      "5138  20.270270         300000  \n",
      "5233  20.270270         150000  \n",
      "4698  14.819277         225000  \n",
      "\n",
      "**Investigating torque with missing units:\n",
      "                                          name                   torque  \\\n",
      "83              Skoda Octavia Rider 1.9 AT TDI               210 / 1900   \n",
      "483          Skoda Octavia Ambiente 1.9 TDI MT               210 / 1900   \n",
      "5385         Skoda Octavia Ambiente 1.9 TDI MT               210 / 1900   \n",
      "4518          Skoda Octavia Classic 1.9 TDI MT               210 / 1900   \n",
      "5027                Skoda Superb LK 1.8 TSI AT        250@ 1250-5000rpm   \n",
      "5728                Skoda Superb LK 1.8 TSI AT        250@ 1250-5000rpm   \n",
      "2850  Ford Endeavour Hurricane Limited Edition  380Nm(38.7kgm)@ 2500rpm   \n",
      "1883       Mercedes-Benz M-Class ML 350 4Matic           510@ 1600-2400   \n",
      "5402       Mercedes-Benz M-Class ML 350 4Matic           510@ 1600-2400   \n",
      "\n",
      "      engine    mileage  selling_price  \n",
      "83    1896.0  22.530120         210000  \n",
      "483   1896.0  22.530120         110000  \n",
      "5385  1896.0  22.530120         100000  \n",
      "4518  1896.0  22.530120         280000  \n",
      "5027  1798.0  19.824324        1864999  \n",
      "5728  1798.0  19.824324        1864999  \n",
      "2850  2953.0  15.421687        1075000  \n",
      "1883  2987.0        NaN        1700000  \n",
      "5402  2987.0        NaN        1700000  \n"
     ]
    }
   ],
   "source": [
    "print(\"***Visual inspection:\")\n",
    "fig, (ax, ax1, ax2) = plt.subplots(1,3,figsize=(10,3))\n",
    "\n",
    "torque_val[torque_unit == \"nm\"].plot(kind=\"box\", ax=ax)\n",
    "ax.set_title(\"torque in nm\")\n",
    "\n",
    "torque_val[torque_unit == \"kgm\"].plot(kind=\"box\", ax=ax1)\n",
    "ax1.set_title(\"torque in kgm\")\n",
    "\n",
    "torque_val[pd.isna(torque_unit) == True].plot(kind=\"box\", ax=ax2)\n",
    "ax2.set_title(\"torque with missing unit\")\n",
    "\n",
    "plt.show()\n",
    "plt.close(\"all\")\n",
    "\n",
    "print(\"\\n**Investigating outliers in nm:\")\n",
    "location = torque_val[(torque_val > 700) & (torque_unit==\"nm\")].sort_values().index\n",
    "print(train[[\"name\", \"torque\", \"engine\", \"mileage\", \"selling_price\"]].iloc[location]) #Comment: Nothing errornous here\n",
    " \n",
    "\n",
    "print(\"\\n**Investigating outliers in kgm:\")\n",
    "location = torque_val[(torque_val > 50) & (torque_unit==\"kgm\")].sort_values().index\n",
    "train[[\"name\", \"torque\", \"engine\", \"mileage\", \"selling_price\"]].iloc[location].pipe(print)\n",
    "\n",
    "\n",
    "print(\"\\n**Investigating torque with missing units:\")\n",
    "location = torque_val[pd.isna(torque_unit) == True].dropna().sort_values().index\n",
    "train[[\"name\", \"torque\", \"engine\", \"mileage\", \"selling_price\"]].iloc[location].pipe(print)"
   ]
  },
  {
   "cell_type": "code",
   "execution_count": 244,
   "id": "46c4d354-00e5-451c-b296-20087e123d0a",
   "metadata": {},
   "outputs": [
    {
     "name": "stdout",
     "output_type": "stream",
     "text": [
      "***Convert all missing unit obs to nm:\n",
      "\n",
      "**With torque in nm: Change torque_val of 4 obs\n",
      "\n",
      "**With torque in kgm: Change torque_unit of all obs >= 100\n"
     ]
    }
   ],
   "source": [
    "print(\"***Convert all missing unit obs to nm:\")\n",
    "for i in range(len(torque_val)):\n",
    "    if pd.isna(torque_unit[i])==True:\n",
    "        torque_unit[i] = \"nm\"\n",
    "\n",
    "print(\"\\n**With torque in nm: Change torque_val of 4 obs\")\n",
    "torque_val[[1201, 5767, 5865]] = 96\n",
    "\n",
    "print(\"\\n**With torque in kgm: Change torque_unit of all obs >= 100\")\n",
    "for i in range(len(torque_val)):\n",
    "    if( (pd.isna(torque_val[i])==False) & (pd.isna(torque_unit[i])==False) & (torque_unit[i]==\"kgm\") & (torque_val[i]>=100)):\n",
    "        torque_unit[i] = \"nm\""
   ]
  },
  {
   "cell_type": "code",
   "execution_count": 245,
   "id": "4e89da91-420e-4f62-b7dd-2e7d5a59d0c6",
   "metadata": {},
   "outputs": [
    {
     "name": "stdout",
     "output_type": "stream",
     "text": [
      "***Convert to nm:\n",
      "<class 'pandas.core.series.Series'>\n",
      "RangeIndex: 6000 entries, 0 to 5999\n",
      "Series name: torque\n",
      "Non-Null Count  Dtype  \n",
      "--------------  -----  \n",
      "5840 non-null   float64\n",
      "dtypes: float64(1)\n",
      "memory usage: 47.0 KB\n"
     ]
    },
    {
     "data": {
      "text/plain": [
       "array(['nm'], dtype=object)"
      ]
     },
     "execution_count": 245,
     "metadata": {},
     "output_type": "execute_result"
    }
   ],
   "source": [
    "print(\"***Convert to nm:\")\n",
    "\n",
    "for i in range(len(torque_val)):\n",
    "    if torque_unit[i] == \"kgm\":\n",
    "        torque_unit[i] = \"nm\"\n",
    "        torque_val[i] = torque_val[i]/0.102\n",
    "        \n",
    "torque_val.info()\n",
    "torque_unit.unique()"
   ]
  },
  {
   "cell_type": "code",
   "execution_count": 246,
   "id": "42985d08-2d97-4ff8-81c1-b8db89c8ecc8",
   "metadata": {},
   "outputs": [],
   "source": [
    "train[\"torque\"] = torque_val"
   ]
  },
  {
   "cell_type": "markdown",
   "id": "d8979670-2de8-41f6-8445-843f492d5af7",
   "metadata": {},
   "source": [
    "## <span style=\"color:darkblue; font-weight:bold\"> D. Cleaning test set </span>"
   ]
  },
  {
   "cell_type": "markdown",
   "id": "9711b936-d044-4acb-97c7-73d13044b09b",
   "metadata": {},
   "source": [
    "## <span style=\"color:orange; font-weight:bold\"> name </span>\n",
    "\n",
    "__1.__ Extracting brand"
   ]
  },
  {
   "cell_type": "code",
   "execution_count": 247,
   "id": "fad30c05-e0af-4a87-99b3-21ee95bbcffe",
   "metadata": {},
   "outputs": [],
   "source": [
    "test[\"brand\"] = pd.Series([Extract_brand(x) for x in test.name])"
   ]
  },
  {
   "cell_type": "markdown",
   "id": "c1fa6c20-2902-4093-a6da-c61ec14579c4",
   "metadata": {},
   "source": [
    "## <span style=\"color:orange; font-weight:bold\"> mileage </span>\n",
    "\n",
    "__1.__ Convert to numeric\n",
    "<br>__2.__ Convert into same metric"
   ]
  },
  {
   "cell_type": "code",
   "execution_count": 248,
   "id": "e6c2dfd5-02bb-41b1-9ea6-69722af4750f",
   "metadata": {},
   "outputs": [
    {
     "data": {
      "text/plain": [
       "0        14.3 kmpl\n",
       "1        17.8 kmpl\n",
       "2        19.1 kmpl\n",
       "3       12.05 kmpl\n",
       "4        21.7 kmpl\n",
       "           ...    \n",
       "2123     20.7 kmpl\n",
       "2124     28.4 kmpl\n",
       "2125    17.88 kmpl\n",
       "2126    19.67 kmpl\n",
       "2127    21.21 kmpl\n",
       "Name: mileage, Length: 2128, dtype: object"
      ]
     },
     "execution_count": 248,
     "metadata": {},
     "output_type": "execute_result"
    }
   ],
   "source": [
    "test[\"mileage\"]"
   ]
  },
  {
   "cell_type": "code",
   "execution_count": 249,
   "id": "1e4c3397-999e-4a52-9ec5-2e13915b22e8",
   "metadata": {},
   "outputs": [
    {
     "name": "stdout",
     "output_type": "stream",
     "text": [
      "***Split value and unit:\n"
     ]
    },
    {
     "data": {
      "text/plain": [
       "array(['kmpl', <NA>, 'km/kg'], dtype=object)"
      ]
     },
     "execution_count": 249,
     "metadata": {},
     "output_type": "execute_result"
    }
   ],
   "source": [
    "print(\"***Split value and unit:\")\n",
    "mileage = test[\"mileage\"].copy()\n",
    "\n",
    "mileage_val = mileage.transform(SplitValue)\n",
    "mileage_unit = mileage.transform(SplitUnit)\n",
    "mileage_unit.unique()"
   ]
  },
  {
   "cell_type": "code",
   "execution_count": 250,
   "id": "c278d398-d9ed-44fe-a75a-902aef753630",
   "metadata": {},
   "outputs": [
    {
     "name": "stdout",
     "output_type": "stream",
     "text": [
      "***Convert mileage to numeric:\n",
      "<class 'pandas.core.series.Series'>\n",
      "RangeIndex: 2128 entries, 0 to 2127\n",
      "Series name: mileage\n",
      "Non-Null Count  Dtype  \n",
      "--------------  -----  \n",
      "2066 non-null   float64\n",
      "dtypes: float64(1)\n",
      "memory usage: 16.8 KB\n",
      "\n",
      "***Visual inspection:\n"
     ]
    },
    {
     "data": {
      "image/png": "[encoded data removed]",
      "text/plain": [
       "<Figure size 1000x300 with 2 Axes>"
      ]
     },
     "metadata": {},
     "output_type": "display_data"
    },
    {
     "name": "stdout",
     "output_type": "stream",
     "text": [
      "[nan]\n"
     ]
    }
   ],
   "source": [
    "print(\"***Convert mileage to numeric:\")\n",
    "mileage_val = mileage_val.transform(lambda x: float(x) if pd.isna(x)==False else np.nan)\n",
    "mileage_val.info()\n",
    "\n",
    "print(\"\\n***Visual inspection:\")\n",
    "fig, (ax, ax1) = plt.subplots(1,2,figsize=(10,3))\n",
    "\n",
    "mileage_val_kmpl = pd.concat([ mileage_val[mileage_unit == \"kmpl\"], test.loc[mileage_unit == \"kmpl\", \"fuel\"] ], axis=1)\n",
    "mileage_val_kmpl.boxplot(by=\"fuel\", ax=ax)\n",
    "ax.set_title(\"mileage in kmpl\")\n",
    "ax.set_xlabel(\"\")\n",
    "\n",
    "mileage_val_kmkg = pd.concat([ mileage_val[mileage_unit == \"km/kg\"], test.loc[mileage_unit == \"km/kg\", \"fuel\"] ], axis=1)\n",
    "mileage_val_kmkg.boxplot(by=\"fuel\", ax=ax1)\n",
    "ax1.set_title(\"mileage in km/kg\")\n",
    "ax1.set_xlabel(\"\")\n",
    "\n",
    "fig.suptitle(\"\")\n",
    "plt.show(); plt.close(\"all\")      \n",
    "\n",
    "\n",
    "print(mileage_val[pd.isna(mileage_unit) == True].unique())"
   ]
  },
  {
   "cell_type": "code",
   "execution_count": 251,
   "id": "5702e3a6-49d4-46cf-b3af-c39fccda4c52",
   "metadata": {},
   "outputs": [
    {
     "name": "stdout",
     "output_type": "stream",
     "text": [
      "***Covert into km/kg:\n",
      "Formula: km/kg = kmpl / density\n",
      "<class 'pandas.core.series.Series'>\n",
      "RangeIndex: 2128 entries, 0 to 2127\n",
      "Series name: mileage\n",
      "Non-Null Count  Dtype  \n",
      "--------------  -----  \n",
      "2066 non-null   float64\n",
      "dtypes: float64(1)\n",
      "memory usage: 16.8 KB\n"
     ]
    },
    {
     "data": {
      "text/plain": [
       "array(['km/kg', <NA>], dtype=object)"
      ]
     },
     "execution_count": 251,
     "metadata": {},
     "output_type": "execute_result"
    }
   ],
   "source": [
    "print(\"***Covert into km/kg:\")\n",
    "print(\"Formula: km/kg = kmpl / density\")\n",
    "fuel = test[\"fuel\"].copy()\n",
    "density = fuel.transform(Density)\n",
    "\n",
    "for i in range(len(mileage_val)):\n",
    "    if (pd.isna(mileage_unit[i])==False) & (mileage_unit[i] == \"kmpl\"):\n",
    "        mileage_unit[i] = \"km/kg\"\n",
    "        mileage_val[i] = mileage_val[i] / density[i]\n",
    "\n",
    "mileage_val.info()\n",
    "mileage_unit.unique()"
   ]
  },
  {
   "cell_type": "code",
   "execution_count": 252,
   "id": "014da40f-1ff5-44ba-a65a-c5c35767135c",
   "metadata": {},
   "outputs": [],
   "source": [
    "test[\"mileage\"] = mileage_val"
   ]
  },
  {
   "cell_type": "markdown",
   "id": "7e7c5f5d-5759-48ba-b99c-24cb731d7a47",
   "metadata": {},
   "source": [
    "## <span style=\"color:orange; font-weight:bold\"> Part 9: engine </span>\n",
    "__1.__ Convert to numeric"
   ]
  },
  {
   "cell_type": "code",
   "execution_count": 253,
   "id": "d7207235-b553-4c40-8599-47e3ee9c7700",
   "metadata": {},
   "outputs": [
    {
     "name": "stdout",
     "output_type": "stream",
     "text": [
      "<class 'str'>\n",
      "Number of levels: 96\n",
      "Percentage of NAs: 0.010333333333333333\n"
     ]
    },
    {
     "data": {
      "text/plain": [
       "0       1598 CC\n",
       "1       1497 CC\n",
       "2       1197 CC\n",
       "3       2179 CC\n",
       "4       1498 CC\n",
       "         ...   \n",
       "2123    1197 CC\n",
       "2124    1248 CC\n",
       "2125    1396 CC\n",
       "2126    1582 CC\n",
       "2127    1197 CC\n",
       "Name: engine, Length: 2128, dtype: object"
      ]
     },
     "execution_count": 253,
     "metadata": {},
     "output_type": "execute_result"
    }
   ],
   "source": [
    "print(type(test[\"engine\"][0]))\n",
    "print(\"Number of levels:\", len(test[\"engine\"].unique()))\n",
    "print(\"Percentage of NAs:\", test[\"engine\"].isna().sum()/6000)\n",
    "test[\"engine\"]"
   ]
  },
  {
   "cell_type": "code",
   "execution_count": 254,
   "id": "34b6c12a-ce86-4c0c-964b-4bfae769ad02",
   "metadata": {},
   "outputs": [
    {
     "name": "stdout",
     "output_type": "stream",
     "text": [
      "***Split value and unit:\n"
     ]
    },
    {
     "data": {
      "text/plain": [
       "array(['CC', <NA>], dtype=object)"
      ]
     },
     "execution_count": 254,
     "metadata": {},
     "output_type": "execute_result"
    }
   ],
   "source": [
    "print(\"***Split value and unit:\")\n",
    "engine = test[\"engine\"].copy()\n",
    "\n",
    "engine_val = engine.transform(SplitValue)\n",
    "engine_unit = engine.transform(SplitUnit)\n",
    "engine_unit.unique()"
   ]
  },
  {
   "cell_type": "code",
   "execution_count": 255,
   "id": "052d17bd-d8d1-4fa9-89d0-345e7a3e3200",
   "metadata": {},
   "outputs": [
    {
     "name": "stdout",
     "output_type": "stream",
     "text": [
      "***Convert engine to numeric:\n",
      "<class 'pandas.core.series.Series'>\n",
      "RangeIndex: 2128 entries, 0 to 2127\n",
      "Series name: engine\n",
      "Non-Null Count  Dtype  \n",
      "--------------  -----  \n",
      "2066 non-null   float64\n",
      "dtypes: float64(1)\n",
      "memory usage: 16.8 KB\n"
     ]
    }
   ],
   "source": [
    "print(\"***Convert engine to numeric:\")\n",
    "engine_val = engine_val.transform(lambda x: float(x) if pd.isna(x)==False else np.nan)\n",
    "engine_val.info()"
   ]
  },
  {
   "cell_type": "code",
   "execution_count": 256,
   "id": "bf229c1a-dee0-423e-bcb8-c5981a2b44cd",
   "metadata": {},
   "outputs": [
    {
     "name": "stdout",
     "output_type": "stream",
     "text": [
      "***Visual inspection:\n"
     ]
    },
    {
     "data": {
      "image/png": "[encoded data removed]",
      "text/plain": [
       "<Figure size 400x300 with 1 Axes>"
      ]
     },
     "metadata": {},
     "output_type": "display_data"
    },
    {
     "name": "stdout",
     "output_type": "stream",
     "text": [
      "**Investigating outliers :\n"
     ]
    },
    {
     "data": {
      "text/html": [
       "<div>\n",
       "<style scoped>\n",
       "    .dataframe tbody tr th:only-of-type {\n",
       "        vertical-align: middle;\n",
       "    }\n",
       "\n",
       "    .dataframe tbody tr th {\n",
       "        vertical-align: top;\n",
       "    }\n",
       "\n",
       "    .dataframe thead th {\n",
       "        text-align: right;\n",
       "    }\n",
       "</style>\n",
       "<table border=\"1\" class=\"dataframe\">\n",
       "  <thead>\n",
       "    <tr style=\"text-align: right;\">\n",
       "      <th></th>\n",
       "      <th>id</th>\n",
       "      <th>name</th>\n",
       "      <th>year</th>\n",
       "      <th>km_driven</th>\n",
       "      <th>fuel</th>\n",
       "      <th>seller_type</th>\n",
       "      <th>transmission</th>\n",
       "      <th>owner</th>\n",
       "      <th>mileage</th>\n",
       "      <th>engine</th>\n",
       "      <th>max_power</th>\n",
       "      <th>torque</th>\n",
       "      <th>seats</th>\n",
       "      <th>brand</th>\n",
       "    </tr>\n",
       "  </thead>\n",
       "  <tbody>\n",
       "    <tr>\n",
       "      <th>600</th>\n",
       "      <td>601</td>\n",
       "      <td>Jeep Wrangler 2016-2019 3.6 4X4</td>\n",
       "      <td>2017</td>\n",
       "      <td>17000</td>\n",
       "      <td>Petrol</td>\n",
       "      <td>Individual</td>\n",
       "      <td>Automatic</td>\n",
       "      <td>First Owner</td>\n",
       "      <td>12.837838</td>\n",
       "      <td>3604 CC</td>\n",
       "      <td>280 bhp</td>\n",
       "      <td>347Nm@ 4300rpm</td>\n",
       "      <td>5.0</td>\n",
       "      <td>Jeep</td>\n",
       "    </tr>\n",
       "    <tr>\n",
       "      <th>1073</th>\n",
       "      <td>1074</td>\n",
       "      <td>Jeep Wrangler 2016-2019 3.6 4X4</td>\n",
       "      <td>2017</td>\n",
       "      <td>17000</td>\n",
       "      <td>Petrol</td>\n",
       "      <td>Individual</td>\n",
       "      <td>Automatic</td>\n",
       "      <td>First Owner</td>\n",
       "      <td>12.837838</td>\n",
       "      <td>3604 CC</td>\n",
       "      <td>280 bhp</td>\n",
       "      <td>347Nm@ 4300rpm</td>\n",
       "      <td>5.0</td>\n",
       "      <td>Jeep</td>\n",
       "    </tr>\n",
       "    <tr>\n",
       "      <th>1880</th>\n",
       "      <td>1881</td>\n",
       "      <td>Jeep Wrangler 2016-2019 3.6 4X4</td>\n",
       "      <td>2017</td>\n",
       "      <td>17000</td>\n",
       "      <td>Petrol</td>\n",
       "      <td>Individual</td>\n",
       "      <td>Automatic</td>\n",
       "      <td>First Owner</td>\n",
       "      <td>12.837838</td>\n",
       "      <td>3604 CC</td>\n",
       "      <td>280 bhp</td>\n",
       "      <td>347Nm@ 4300rpm</td>\n",
       "      <td>5.0</td>\n",
       "      <td>Jeep</td>\n",
       "    </tr>\n",
       "  </tbody>\n",
       "</table>\n",
       "</div>"
      ],
      "text/plain": [
       "        id                             name  year  km_driven    fuel  \\\n",
       "600    601  Jeep Wrangler 2016-2019 3.6 4X4  2017      17000  Petrol   \n",
       "1073  1074  Jeep Wrangler 2016-2019 3.6 4X4  2017      17000  Petrol   \n",
       "1880  1881  Jeep Wrangler 2016-2019 3.6 4X4  2017      17000  Petrol   \n",
       "\n",
       "     seller_type transmission        owner    mileage   engine max_power  \\\n",
       "600   Individual    Automatic  First Owner  12.837838  3604 CC   280 bhp   \n",
       "1073  Individual    Automatic  First Owner  12.837838  3604 CC   280 bhp   \n",
       "1880  Individual    Automatic  First Owner  12.837838  3604 CC   280 bhp   \n",
       "\n",
       "              torque  seats brand  \n",
       "600   347Nm@ 4300rpm    5.0  Jeep  \n",
       "1073  347Nm@ 4300rpm    5.0  Jeep  \n",
       "1880  347Nm@ 4300rpm    5.0  Jeep  "
      ]
     },
     "execution_count": 256,
     "metadata": {},
     "output_type": "execute_result"
    }
   ],
   "source": [
    "print(\"***Visual inspection:\")\n",
    "fig, ax = plt.subplots(figsize=(4,3))\n",
    "ax.boxplot(x = engine_val.dropna())\n",
    "\n",
    "plt.show(); plt.close(\"all\")\n",
    "\n",
    "print(\"**Investigating outliers :\")\n",
    "location = engine_val[engine_val > 3000].sort_values().index\n",
    "test.iloc[location]"
   ]
  },
  {
   "cell_type": "code",
   "execution_count": 257,
   "id": "817ae3eb-1c40-4d39-b5c7-e009adf988a2",
   "metadata": {},
   "outputs": [],
   "source": [
    "test[\"engine\"] = engine_val"
   ]
  },
  {
   "cell_type": "markdown",
   "id": "e939edb9-5b09-432a-8f82-f7498d263f00",
   "metadata": {},
   "source": [
    "## <span style=\"color:orange; font-weight:bold\"> max_power </span>\n",
    "__1.__ Convert to numeric"
   ]
  },
  {
   "cell_type": "code",
   "execution_count": 258,
   "id": "1c2e3b6e-7660-4a07-a515-9e4187d11210",
   "metadata": {},
   "outputs": [
    {
     "name": "stdout",
     "output_type": "stream",
     "text": [
      "<class 'str'>\n",
      "Number of levels: 237\n",
      "Percentage of NAs: 0.010166666666666666\n"
     ]
    },
    {
     "data": {
      "text/plain": [
       "0       103.5 bhp\n",
       "1       117.3 bhp\n",
       "2          82 bhp\n",
       "3         120 bhp\n",
       "4       98.96 bhp\n",
       "          ...    \n",
       "2123    81.86 bhp\n",
       "2124    74.02 bhp\n",
       "2125     52.8 bhp\n",
       "2126    126.2 bhp\n",
       "2127    81.80 bhp\n",
       "Name: max_power, Length: 2128, dtype: object"
      ]
     },
     "execution_count": 258,
     "metadata": {},
     "output_type": "execute_result"
    }
   ],
   "source": [
    "print(type(test[\"max_power\"][0]))\n",
    "print(\"Number of levels:\", len(test[\"max_power\"].unique()))\n",
    "print(\"Percentage of NAs:\", test[\"max_power\"].isna().sum()/6000)\n",
    "test[\"max_power\"]"
   ]
  },
  {
   "cell_type": "code",
   "execution_count": 259,
   "id": "0adeb169-ce4f-4bbe-ab9f-b8ec3a9a79a0",
   "metadata": {},
   "outputs": [
    {
     "name": "stdout",
     "output_type": "stream",
     "text": [
      "***Split value and unit:\n"
     ]
    },
    {
     "data": {
      "text/plain": [
       "array(['bhp', <NA>], dtype=object)"
      ]
     },
     "execution_count": 259,
     "metadata": {},
     "output_type": "execute_result"
    }
   ],
   "source": [
    "print(\"***Split value and unit:\")\n",
    "max_power = test[\"max_power\"].copy()\n",
    "\n",
    "max_power_val = max_power.transform(SplitValue)\n",
    "max_power_unit = max_power.transform(SplitUnit)\n",
    "max_power_unit.unique()"
   ]
  },
  {
   "cell_type": "code",
   "execution_count": 260,
   "id": "e52eb0ce-29f3-4f33-8276-e7108aaeb5ea",
   "metadata": {},
   "outputs": [
    {
     "name": "stdout",
     "output_type": "stream",
     "text": [
      "***Convert max_power to numeric:\n",
      "<class 'pandas.core.series.Series'>\n",
      "RangeIndex: 2128 entries, 0 to 2127\n",
      "Series name: max_power\n",
      "Non-Null Count  Dtype  \n",
      "--------------  -----  \n",
      "2067 non-null   float64\n",
      "dtypes: float64(1)\n",
      "memory usage: 16.8 KB\n"
     ]
    }
   ],
   "source": [
    "print(\"***Convert max_power to numeric:\")\n",
    "max_power_val = max_power_val.transform(lambda x: np.nan if (pd.isna(x)==False) & (x==\"bhp\") else x).transform(lambda x: float(x) if pd.isna(x)==False else np.nan)\n",
    "max_power_val.info()"
   ]
  },
  {
   "cell_type": "code",
   "execution_count": 261,
   "id": "071053c2-bbee-4be1-ae56-b75c658ebd65",
   "metadata": {},
   "outputs": [
    {
     "name": "stdout",
     "output_type": "stream",
     "text": [
      "***Visual inspection:\n"
     ]
    },
    {
     "data": {
      "image/png": "[encoded data removed]",
      "text/plain": [
       "<Figure size 400x300 with 1 Axes>"
      ]
     },
     "metadata": {},
     "output_type": "display_data"
    },
    {
     "name": "stdout",
     "output_type": "stream",
     "text": [
      "**Investigating outliers (value = 0):\n",
      "        id                            name  year  km_driven    fuel  \\\n",
      "1757  1758  Tata Indica Vista Quadrajet LS  2012      70000  Diesel   \n",
      "\n",
      "     seller_type transmission        owner  mileage  engine max_power torque  \\\n",
      "1757  Individual       Manual  First Owner      NaN     NaN         0    NaN   \n",
      "\n",
      "      seats brand  \n",
      "1757    NaN  Tata  \n"
     ]
    }
   ],
   "source": [
    "print(\"***Visual inspection:\")\n",
    "fig, ax = plt.subplots(figsize=(4,3))\n",
    "ax.boxplot(x = max_power_val.dropna())\n",
    "\n",
    "plt.show(); plt.close(\"all\")\n",
    "\n",
    "print(\"**Investigating outliers (value = 0):\")\n",
    "location = max_power_val[max_power_val == 0].index\n",
    "test.iloc[location].pipe(print)"
   ]
  },
  {
   "cell_type": "code",
   "execution_count": 262,
   "id": "26241e79-87f3-45c1-bd04-b80a43136e5b",
   "metadata": {},
   "outputs": [],
   "source": [
    "test[\"max_power\"] = max_power_val"
   ]
  },
  {
   "cell_type": "markdown",
   "id": "c7cba952-6588-4437-8e40-0a94eee17c75",
   "metadata": {},
   "source": [
    "## <span style=\"color:orange; font-weight:bold\"> torque </span>"
   ]
  },
  {
   "cell_type": "code",
   "execution_count": 263,
   "id": "1c4ed0be-4cb1-4adf-8042-0700171c8673",
   "metadata": {},
   "outputs": [
    {
     "name": "stdout",
     "output_type": "stream",
     "text": [
      "***plit value and unit:\n",
      "['nm' 'kgm' <NA>]\n",
      "\n",
      "***Convert to numeric:\n",
      "<class 'pandas.core.series.Series'>\n",
      "RangeIndex: 2128 entries, 0 to 2127\n",
      "Series name: torque\n",
      "Non-Null Count  Dtype  \n",
      "--------------  -----  \n",
      "2066 non-null   float64\n",
      "dtypes: float64(1)\n",
      "memory usage: 16.8 KB\n"
     ]
    }
   ],
   "source": [
    "print(\"***plit value and unit:\")\n",
    "torque = test[\"torque\"].copy()\n",
    "\n",
    "torque_val = torque.transform(TorqueVal)\n",
    "torque_unit = torque.transform(TorqueUnit)\n",
    "print(torque_unit.unique())\n",
    "\n",
    "print(\"\\n***Convert to numeric:\")\n",
    "torque_val = torque_val.transform(lambda x: float(x) if pd.isna(x)==False else np.nan)\n",
    "torque_val.info()"
   ]
  },
  {
   "cell_type": "code",
   "execution_count": 264,
   "id": "5660f535-6141-4404-88b0-2c98142a8172",
   "metadata": {},
   "outputs": [
    {
     "name": "stdout",
     "output_type": "stream",
     "text": [
      "***Visual inspection:\n"
     ]
    },
    {
     "data": {
      "image/png": "[encoded data removed]",
      "text/plain": [
       "<Figure size 1000x300 with 3 Axes>"
      ]
     },
     "metadata": {},
     "output_type": "display_data"
    },
    {
     "name": "stdout",
     "output_type": "stream",
     "text": [
      "\n",
      "**Investigating outliers in nm:\n",
      "                                      name               torque  engine  \\\n",
      "865          Chevrolet Optra Magnum 2.0 LS       305Nm@ 2000rpm  1991.0   \n",
      "1977     Chevrolet Optra Magnum 2.0 LT BS3       305Nm@ 2000rpm  1991.0   \n",
      "2017         Chevrolet Optra Magnum 2.0 LT       305Nm@ 2000rpm  1991.0   \n",
      "59        Tata New Safari DICOR 2.2 LX 4x2  320Nm@ 1700-2700rpm  2179.0   \n",
      "233                  Tata Safari Storme VX  320Nm@ 1700-2700rpm  2179.0   \n",
      "...                                    ...                  ...     ...   \n",
      "254                Audi Q5 3.0 TDI Quattro  580Nm@ 1400-3250rpm  2967.0   \n",
      "1171  Jaguar XF 3.0 Litre S Premium Luxury       600Nm@ 2000rpm  2993.0   \n",
      "1741                      Jaguar XF Diesel       600Nm@ 2000rpm  2993.0   \n",
      "882       Mercedes-Benz M-Class ML 350 CDI  619Nm@ 1600-2400rpm  2987.0   \n",
      "1423                 BMW X7 xDrive 30d DPE  620Nm@ 1500-2500rpm  2993.0   \n",
      "\n",
      "        mileage  \n",
      "865   19.903614  \n",
      "1977  19.903614  \n",
      "2017  19.903614  \n",
      "59    13.939759  \n",
      "233   16.867470  \n",
      "...         ...  \n",
      "254   15.927711  \n",
      "1171  17.759036  \n",
      "1741  17.759036  \n",
      "882   14.144578  \n",
      "1423  16.120482  \n",
      "\n",
      "[200 rows x 4 columns]\n",
      "\n",
      "**Investigating outliers in kgm:\n",
      "                            name                torque  engine    mileage\n",
      "555     Tata Sumo CX 10 Str BSIV  115@ 2,500(kgm@ rpm)  1948.0  14.698795\n",
      "1262           Ford Ikon 1.6 Nxt   130@ 2500(kgm@ rpm)  1597.0  19.189189\n",
      "1786  Ford Ikon 1.6 Really Sport   130@ 2500(kgm@ rpm)  1597.0  19.189189\n",
      "1055        Maruti SX4 Vxi BSIII  145@ 4,100(kgm@ rpm)  1586.0  20.270270\n",
      "1343        Maruti SX4 Vxi BSIII  145@ 4,100(kgm@ rpm)  1586.0  20.270270\n",
      "\n",
      "**Investigating torque with missing units:\n",
      "                                   name           torque  engine    mileage\n",
      "65     Honda Jazz Select Edition Active  110(11.2)@ 4800  1198.0  21.621622\n",
      "515   Skoda Octavia Ambiente 1.9 TDI MT       210 / 1900  1896.0  22.530120\n",
      "699    Skoda Octavia Classic 1.9 TDI MT       210 / 1900  1896.0  22.530120\n",
      "1872     Skoda Octavia Ambiente 1.9 TDI       210 / 1900  1896.0  22.530120\n"
     ]
    }
   ],
   "source": [
    "print(\"***Visual inspection:\")\n",
    "fig, (ax, ax1, ax2) = plt.subplots(1,3,figsize=(10,3))\n",
    "\n",
    "torque_val[torque_unit == \"nm\"].plot(kind=\"box\", ax=ax)\n",
    "ax.set_title(\"torque in nm\")\n",
    "ax.set_xlabel(\"\")\n",
    "\n",
    "torque_val[torque_unit == \"kgm\"].plot(kind=\"box\", ax=ax1)\n",
    "ax1.set_title(\"torque in kgm\")\n",
    "\n",
    "torque_val[pd.isna(torque_unit) == True].plot(kind=\"box\", ax=ax2)\n",
    "ax2.set_title(\"torque with missing unit\")\n",
    "\n",
    "plt.show()\n",
    "plt.close(\"all\")\n",
    "\n",
    "\n",
    "print(\"\\n**Investigating outliers in nm:\")\n",
    "location = torque_val[(torque_val > 300) & (torque_unit==\"nm\")].sort_values().index\n",
    "print(test[[\"name\", \"torque\", \"engine\", \"mileage\"]].iloc[location]) #Comment: Nothing errornous here\n",
    " \n",
    "\n",
    "print(\"\\n**Investigating outliers in kgm:\")\n",
    "location = torque_val[(torque_val > 60) & (torque_unit==\"kgm\")].sort_values().index\n",
    "test[[\"name\", \"torque\", \"engine\", \"mileage\"]].iloc[location].pipe(print)\n",
    "\n",
    "\n",
    "print(\"\\n**Investigating torque with missing units:\")\n",
    "location = torque_val[pd.isna(torque_unit) == True].dropna().sort_values().index\n",
    "test[[\"name\", \"torque\", \"engine\", \"mileage\"]].iloc[location].pipe(print)"
   ]
  },
  {
   "cell_type": "code",
   "execution_count": 265,
   "id": "cbc51240-b091-4237-a7e2-5fd0805a20ef",
   "metadata": {},
   "outputs": [
    {
     "name": "stdout",
     "output_type": "stream",
     "text": [
      "***Convert all missing unit obs to nm:\n",
      "\n",
      "**With torque in kgm: Change torque_unit of all obs >= 100\n"
     ]
    }
   ],
   "source": [
    "print(\"***Convert all missing unit obs to nm:\")\n",
    "for i in range(len(torque_val)):\n",
    "    if pd.isna(torque_unit[i])==True:\n",
    "        torque_unit[i] = \"nm\"\n",
    "\n",
    "print(\"\\n**With torque in kgm: Change torque_unit of all obs >= 100\")\n",
    "for i in range(len(torque_val)):\n",
    "    if( (pd.isna(torque_val[i])==False) & (torque_unit[i]==\"kgm\") & (torque_val[i]>=100)):\n",
    "        torque_unit[i] = \"nm\""
   ]
  },
  {
   "cell_type": "code",
   "execution_count": 266,
   "id": "030aaad1-13f9-49e0-83d4-fb2e423a2c60",
   "metadata": {},
   "outputs": [
    {
     "name": "stdout",
     "output_type": "stream",
     "text": [
      "***Convert to nm:\n",
      "<class 'pandas.core.series.Series'>\n",
      "RangeIndex: 2128 entries, 0 to 2127\n",
      "Series name: torque\n",
      "Non-Null Count  Dtype  \n",
      "--------------  -----  \n",
      "2066 non-null   float64\n",
      "dtypes: float64(1)\n",
      "memory usage: 16.8 KB\n"
     ]
    },
    {
     "data": {
      "text/plain": [
       "array(['nm'], dtype=object)"
      ]
     },
     "execution_count": 266,
     "metadata": {},
     "output_type": "execute_result"
    }
   ],
   "source": [
    "print(\"***Convert to nm:\")\n",
    "\n",
    "for i in range(len(torque_val)):\n",
    "    if torque_unit[i] == \"kgm\":\n",
    "        torque_unit[i] = \"nm\"\n",
    "        torque_val[i] = torque_val[i]/0.102\n",
    "        \n",
    "torque_val.info()\n",
    "torque_unit.unique()"
   ]
  },
  {
   "cell_type": "code",
   "execution_count": 267,
   "id": "f81522f0-9c9c-4002-b8c5-4ae753741322",
   "metadata": {},
   "outputs": [],
   "source": [
    "test[\"torque\"] = torque_val"
   ]
  },
  {
   "cell_type": "markdown",
   "id": "e92c3f17-901b-4877-a861-789f34ce4f39",
   "metadata": {},
   "source": [
    "## <span style=\"color:darkblue; font-weight:bold\"> E.Export cleaned data </span>"
   ]
  },
  {
   "cell_type": "code",
   "execution_count": 268,
   "id": "60adad24-739d-4319-948b-57276c877a7c",
   "metadata": {},
   "outputs": [
    {
     "name": "stdout",
     "output_type": "stream",
     "text": [
      "<class 'pandas.core.frame.DataFrame'>\n",
      "RangeIndex: 6000 entries, 0 to 5999\n",
      "Data columns (total 14 columns):\n",
      " #   Column         Non-Null Count  Dtype  \n",
      "---  ------         --------------  -----  \n",
      " 0   name           6000 non-null   object \n",
      " 1   year           6000 non-null   int64  \n",
      " 2   selling_price  6000 non-null   int64  \n",
      " 3   km_driven      6000 non-null   int64  \n",
      " 4   fuel           6000 non-null   object \n",
      " 5   seller_type    6000 non-null   object \n",
      " 6   transmission   6000 non-null   object \n",
      " 7   owner          6000 non-null   object \n",
      " 8   mileage        5828 non-null   float64\n",
      " 9   engine         5841 non-null   float64\n",
      " 10  max_power      5840 non-null   float64\n",
      " 11  torque         5840 non-null   float64\n",
      " 12  seats          5841 non-null   float64\n",
      " 13  brand          6000 non-null   object \n",
      "dtypes: float64(5), int64(3), object(6)\n",
      "memory usage: 656.4+ KB\n"
     ]
    },
    {
     "data": {
      "text/html": [
       "<div>\n",
       "<style scoped>\n",
       "    .dataframe tbody tr th:only-of-type {\n",
       "        vertical-align: middle;\n",
       "    }\n",
       "\n",
       "    .dataframe tbody tr th {\n",
       "        vertical-align: top;\n",
       "    }\n",
       "\n",
       "    .dataframe thead th {\n",
       "        text-align: right;\n",
       "    }\n",
       "</style>\n",
       "<table border=\"1\" class=\"dataframe\">\n",
       "  <thead>\n",
       "    <tr style=\"text-align: right;\">\n",
       "      <th></th>\n",
       "      <th>year</th>\n",
       "      <th>selling_price</th>\n",
       "      <th>km_driven</th>\n",
       "      <th>fuel</th>\n",
       "      <th>seller_type</th>\n",
       "      <th>transmission</th>\n",
       "      <th>owner</th>\n",
       "      <th>mileage</th>\n",
       "      <th>engine</th>\n",
       "      <th>max_power</th>\n",
       "      <th>torque</th>\n",
       "      <th>seats</th>\n",
       "      <th>brand</th>\n",
       "    </tr>\n",
       "  </thead>\n",
       "  <tbody>\n",
       "    <tr>\n",
       "      <th>0</th>\n",
       "      <td>2018</td>\n",
       "      <td>850000</td>\n",
       "      <td>9500</td>\n",
       "      <td>Diesel</td>\n",
       "      <td>Individual</td>\n",
       "      <td>Manual</td>\n",
       "      <td>First Owner</td>\n",
       "      <td>25.903614</td>\n",
       "      <td>1497.0</td>\n",
       "      <td>108.50</td>\n",
       "      <td>260.00</td>\n",
       "      <td>5.0</td>\n",
       "      <td>Tata</td>\n",
       "    </tr>\n",
       "    <tr>\n",
       "      <th>1</th>\n",
       "      <td>2018</td>\n",
       "      <td>750000</td>\n",
       "      <td>30000</td>\n",
       "      <td>Diesel</td>\n",
       "      <td>Individual</td>\n",
       "      <td>Manual</td>\n",
       "      <td>First Owner</td>\n",
       "      <td>25.530120</td>\n",
       "      <td>1396.0</td>\n",
       "      <td>88.76</td>\n",
       "      <td>219.66</td>\n",
       "      <td>5.0</td>\n",
       "      <td>Hyundai</td>\n",
       "    </tr>\n",
       "    <tr>\n",
       "      <th>2</th>\n",
       "      <td>2015</td>\n",
       "      <td>1500000</td>\n",
       "      <td>80000</td>\n",
       "      <td>Diesel</td>\n",
       "      <td>Individual</td>\n",
       "      <td>Automatic</td>\n",
       "      <td>Second Owner</td>\n",
       "      <td>15.120482</td>\n",
       "      <td>2982.0</td>\n",
       "      <td>168.50</td>\n",
       "      <td>360.00</td>\n",
       "      <td>7.0</td>\n",
       "      <td>Toyota</td>\n",
       "    </tr>\n",
       "    <tr>\n",
       "      <th>3</th>\n",
       "      <td>2015</td>\n",
       "      <td>795000</td>\n",
       "      <td>35000</td>\n",
       "      <td>Petrol</td>\n",
       "      <td>Individual</td>\n",
       "      <td>Manual</td>\n",
       "      <td>First Owner</td>\n",
       "      <td>22.986486</td>\n",
       "      <td>1591.0</td>\n",
       "      <td>121.30</td>\n",
       "      <td>154.90</td>\n",
       "      <td>5.0</td>\n",
       "      <td>Hyundai</td>\n",
       "    </tr>\n",
       "    <tr>\n",
       "      <th>4</th>\n",
       "      <td>2019</td>\n",
       "      <td>3800000</td>\n",
       "      <td>20000</td>\n",
       "      <td>Diesel</td>\n",
       "      <td>Individual</td>\n",
       "      <td>Automatic</td>\n",
       "      <td>First Owner</td>\n",
       "      <td>21.686747</td>\n",
       "      <td>1969.0</td>\n",
       "      <td>190.00</td>\n",
       "      <td>400.00</td>\n",
       "      <td>5.0</td>\n",
       "      <td>Volvo</td>\n",
       "    </tr>\n",
       "    <tr>\n",
       "      <th>...</th>\n",
       "      <td>...</td>\n",
       "      <td>...</td>\n",
       "      <td>...</td>\n",
       "      <td>...</td>\n",
       "      <td>...</td>\n",
       "      <td>...</td>\n",
       "      <td>...</td>\n",
       "      <td>...</td>\n",
       "      <td>...</td>\n",
       "      <td>...</td>\n",
       "      <td>...</td>\n",
       "      <td>...</td>\n",
       "      <td>...</td>\n",
       "    </tr>\n",
       "    <tr>\n",
       "      <th>5995</th>\n",
       "      <td>2010</td>\n",
       "      <td>235000</td>\n",
       "      <td>50000</td>\n",
       "      <td>Petrol</td>\n",
       "      <td>Individual</td>\n",
       "      <td>Manual</td>\n",
       "      <td>First Owner</td>\n",
       "      <td>25.675676</td>\n",
       "      <td>998.0</td>\n",
       "      <td>66.10</td>\n",
       "      <td>90.00</td>\n",
       "      <td>5.0</td>\n",
       "      <td>Maruti</td>\n",
       "    </tr>\n",
       "    <tr>\n",
       "      <th>5996</th>\n",
       "      <td>2018</td>\n",
       "      <td>390000</td>\n",
       "      <td>40000</td>\n",
       "      <td>CNG</td>\n",
       "      <td>Individual</td>\n",
       "      <td>Manual</td>\n",
       "      <td>First Owner</td>\n",
       "      <td>26.600000</td>\n",
       "      <td>998.0</td>\n",
       "      <td>58.16</td>\n",
       "      <td>77.00</td>\n",
       "      <td>5.0</td>\n",
       "      <td>Maruti</td>\n",
       "    </tr>\n",
       "    <tr>\n",
       "      <th>5997</th>\n",
       "      <td>2018</td>\n",
       "      <td>450000</td>\n",
       "      <td>75000</td>\n",
       "      <td>Petrol</td>\n",
       "      <td>Individual</td>\n",
       "      <td>Manual</td>\n",
       "      <td>First Owner</td>\n",
       "      <td>27.432432</td>\n",
       "      <td>1199.0</td>\n",
       "      <td>84.00</td>\n",
       "      <td>114.00</td>\n",
       "      <td>5.0</td>\n",
       "      <td>Tata</td>\n",
       "    </tr>\n",
       "    <tr>\n",
       "      <th>5998</th>\n",
       "      <td>2011</td>\n",
       "      <td>250000</td>\n",
       "      <td>100000</td>\n",
       "      <td>Diesel</td>\n",
       "      <td>Individual</td>\n",
       "      <td>Manual</td>\n",
       "      <td>Second Owner</td>\n",
       "      <td>19.228916</td>\n",
       "      <td>2523.0</td>\n",
       "      <td>63.00</td>\n",
       "      <td>180.00</td>\n",
       "      <td>9.0</td>\n",
       "      <td>Mahindra</td>\n",
       "    </tr>\n",
       "    <tr>\n",
       "      <th>5999</th>\n",
       "      <td>2016</td>\n",
       "      <td>550000</td>\n",
       "      <td>35000</td>\n",
       "      <td>Diesel</td>\n",
       "      <td>Individual</td>\n",
       "      <td>Manual</td>\n",
       "      <td>First Owner</td>\n",
       "      <td>31.084337</td>\n",
       "      <td>1498.0</td>\n",
       "      <td>98.60</td>\n",
       "      <td>200.00</td>\n",
       "      <td>5.0</td>\n",
       "      <td>Honda</td>\n",
       "    </tr>\n",
       "  </tbody>\n",
       "</table>\n",
       "<p>6000 rows × 13 columns</p>\n",
       "</div>"
      ],
      "text/plain": [
       "      year  selling_price  km_driven    fuel seller_type transmission  \\\n",
       "0     2018         850000       9500  Diesel  Individual       Manual   \n",
       "1     2018         750000      30000  Diesel  Individual       Manual   \n",
       "2     2015        1500000      80000  Diesel  Individual    Automatic   \n",
       "3     2015         795000      35000  Petrol  Individual       Manual   \n",
       "4     2019        3800000      20000  Diesel  Individual    Automatic   \n",
       "...    ...            ...        ...     ...         ...          ...   \n",
       "5995  2010         235000      50000  Petrol  Individual       Manual   \n",
       "5996  2018         390000      40000     CNG  Individual       Manual   \n",
       "5997  2018         450000      75000  Petrol  Individual       Manual   \n",
       "5998  2011         250000     100000  Diesel  Individual       Manual   \n",
       "5999  2016         550000      35000  Diesel  Individual       Manual   \n",
       "\n",
       "             owner    mileage  engine  max_power  torque  seats     brand  \n",
       "0      First Owner  25.903614  1497.0     108.50  260.00    5.0      Tata  \n",
       "1      First Owner  25.530120  1396.0      88.76  219.66    5.0   Hyundai  \n",
       "2     Second Owner  15.120482  2982.0     168.50  360.00    7.0    Toyota  \n",
       "3      First Owner  22.986486  1591.0     121.30  154.90    5.0   Hyundai  \n",
       "4      First Owner  21.686747  1969.0     190.00  400.00    5.0     Volvo  \n",
       "...            ...        ...     ...        ...     ...    ...       ...  \n",
       "5995   First Owner  25.675676   998.0      66.10   90.00    5.0    Maruti  \n",
       "5996   First Owner  26.600000   998.0      58.16   77.00    5.0    Maruti  \n",
       "5997   First Owner  27.432432  1199.0      84.00  114.00    5.0      Tata  \n",
       "5998  Second Owner  19.228916  2523.0      63.00  180.00    9.0  Mahindra  \n",
       "5999   First Owner  31.084337  1498.0      98.60  200.00    5.0     Honda  \n",
       "\n",
       "[6000 rows x 13 columns]"
      ]
     },
     "execution_count": 268,
     "metadata": {},
     "output_type": "execute_result"
    }
   ],
   "source": [
    "train.info()\n",
    "train = train.drop([\"name\"], axis=1)\n",
    "train"
   ]
  },
  {
   "cell_type": "code",
   "execution_count": 269,
   "id": "6a87018d-4ccc-4f25-b15d-c3e58fabe1bf",
   "metadata": {},
   "outputs": [
    {
     "name": "stdout",
     "output_type": "stream",
     "text": [
      "<class 'pandas.core.frame.DataFrame'>\n",
      "RangeIndex: 2128 entries, 0 to 2127\n",
      "Data columns (total 14 columns):\n",
      " #   Column        Non-Null Count  Dtype  \n",
      "---  ------        --------------  -----  \n",
      " 0   id            2128 non-null   int64  \n",
      " 1   name          2128 non-null   object \n",
      " 2   year          2128 non-null   int64  \n",
      " 3   km_driven     2128 non-null   int64  \n",
      " 4   fuel          2128 non-null   object \n",
      " 5   seller_type   2128 non-null   object \n",
      " 6   transmission  2128 non-null   object \n",
      " 7   owner         2128 non-null   object \n",
      " 8   mileage       2066 non-null   float64\n",
      " 9   engine        2066 non-null   float64\n",
      " 10  max_power     2067 non-null   float64\n",
      " 11  torque        2066 non-null   float64\n",
      " 12  seats         2066 non-null   float64\n",
      " 13  brand         2128 non-null   object \n",
      "dtypes: float64(5), int64(3), object(6)\n",
      "memory usage: 232.9+ KB\n"
     ]
    },
    {
     "data": {
      "text/html": [
       "<div>\n",
       "<style scoped>\n",
       "    .dataframe tbody tr th:only-of-type {\n",
       "        vertical-align: middle;\n",
       "    }\n",
       "\n",
       "    .dataframe tbody tr th {\n",
       "        vertical-align: top;\n",
       "    }\n",
       "\n",
       "    .dataframe thead th {\n",
       "        text-align: right;\n",
       "    }\n",
       "</style>\n",
       "<table border=\"1\" class=\"dataframe\">\n",
       "  <thead>\n",
       "    <tr style=\"text-align: right;\">\n",
       "      <th></th>\n",
       "      <th>year</th>\n",
       "      <th>km_driven</th>\n",
       "      <th>fuel</th>\n",
       "      <th>seller_type</th>\n",
       "      <th>transmission</th>\n",
       "      <th>owner</th>\n",
       "      <th>mileage</th>\n",
       "      <th>engine</th>\n",
       "      <th>max_power</th>\n",
       "      <th>torque</th>\n",
       "      <th>seats</th>\n",
       "      <th>brand</th>\n",
       "    </tr>\n",
       "  </thead>\n",
       "  <tbody>\n",
       "    <tr>\n",
       "      <th>0</th>\n",
       "      <td>2016</td>\n",
       "      <td>11000</td>\n",
       "      <td>Petrol</td>\n",
       "      <td>Dealer</td>\n",
       "      <td>Automatic</td>\n",
       "      <td>First Owner</td>\n",
       "      <td>19.324324</td>\n",
       "      <td>1598.0</td>\n",
       "      <td>103.50</td>\n",
       "      <td>153.00</td>\n",
       "      <td>5.0</td>\n",
       "      <td>Skoda</td>\n",
       "    </tr>\n",
       "    <tr>\n",
       "      <th>1</th>\n",
       "      <td>2017</td>\n",
       "      <td>35000</td>\n",
       "      <td>Petrol</td>\n",
       "      <td>Individual</td>\n",
       "      <td>Manual</td>\n",
       "      <td>First Owner</td>\n",
       "      <td>24.054054</td>\n",
       "      <td>1497.0</td>\n",
       "      <td>117.30</td>\n",
       "      <td>145.00</td>\n",
       "      <td>5.0</td>\n",
       "      <td>Honda</td>\n",
       "    </tr>\n",
       "    <tr>\n",
       "      <th>2</th>\n",
       "      <td>2014</td>\n",
       "      <td>80000</td>\n",
       "      <td>Petrol</td>\n",
       "      <td>Individual</td>\n",
       "      <td>Manual</td>\n",
       "      <td>First Owner</td>\n",
       "      <td>25.810811</td>\n",
       "      <td>1197.0</td>\n",
       "      <td>82.00</td>\n",
       "      <td>114.00</td>\n",
       "      <td>5.0</td>\n",
       "      <td>Hyundai</td>\n",
       "    </tr>\n",
       "    <tr>\n",
       "      <th>3</th>\n",
       "      <td>2014</td>\n",
       "      <td>145241</td>\n",
       "      <td>Diesel</td>\n",
       "      <td>Individual</td>\n",
       "      <td>Manual</td>\n",
       "      <td>First Owner</td>\n",
       "      <td>14.518072</td>\n",
       "      <td>2179.0</td>\n",
       "      <td>120.00</td>\n",
       "      <td>290.00</td>\n",
       "      <td>7.0</td>\n",
       "      <td>Mahindra</td>\n",
       "    </tr>\n",
       "    <tr>\n",
       "      <th>4</th>\n",
       "      <td>2015</td>\n",
       "      <td>92651</td>\n",
       "      <td>Diesel</td>\n",
       "      <td>Dealer</td>\n",
       "      <td>Manual</td>\n",
       "      <td>First Owner</td>\n",
       "      <td>26.144578</td>\n",
       "      <td>1498.0</td>\n",
       "      <td>98.96</td>\n",
       "      <td>215.00</td>\n",
       "      <td>5.0</td>\n",
       "      <td>Ford</td>\n",
       "    </tr>\n",
       "    <tr>\n",
       "      <th>...</th>\n",
       "      <td>...</td>\n",
       "      <td>...</td>\n",
       "      <td>...</td>\n",
       "      <td>...</td>\n",
       "      <td>...</td>\n",
       "      <td>...</td>\n",
       "      <td>...</td>\n",
       "      <td>...</td>\n",
       "      <td>...</td>\n",
       "      <td>...</td>\n",
       "      <td>...</td>\n",
       "      <td>...</td>\n",
       "    </tr>\n",
       "    <tr>\n",
       "      <th>2123</th>\n",
       "      <td>2020</td>\n",
       "      <td>2000</td>\n",
       "      <td>Petrol</td>\n",
       "      <td>Dealer</td>\n",
       "      <td>Manual</td>\n",
       "      <td>First Owner</td>\n",
       "      <td>27.972973</td>\n",
       "      <td>1197.0</td>\n",
       "      <td>81.86</td>\n",
       "      <td>113.75</td>\n",
       "      <td>5.0</td>\n",
       "      <td>Hyundai</td>\n",
       "    </tr>\n",
       "    <tr>\n",
       "      <th>2124</th>\n",
       "      <td>2018</td>\n",
       "      <td>100000</td>\n",
       "      <td>Diesel</td>\n",
       "      <td>Individual</td>\n",
       "      <td>Manual</td>\n",
       "      <td>Second Owner</td>\n",
       "      <td>34.216867</td>\n",
       "      <td>1248.0</td>\n",
       "      <td>74.02</td>\n",
       "      <td>190.00</td>\n",
       "      <td>5.0</td>\n",
       "      <td>Maruti</td>\n",
       "    </tr>\n",
       "    <tr>\n",
       "      <th>2125</th>\n",
       "      <td>2011</td>\n",
       "      <td>172000</td>\n",
       "      <td>Diesel</td>\n",
       "      <td>Individual</td>\n",
       "      <td>Manual</td>\n",
       "      <td>Second Owner</td>\n",
       "      <td>21.542169</td>\n",
       "      <td>1396.0</td>\n",
       "      <td>52.80</td>\n",
       "      <td>85.00</td>\n",
       "      <td>5.0</td>\n",
       "      <td>Tata</td>\n",
       "    </tr>\n",
       "    <tr>\n",
       "      <th>2126</th>\n",
       "      <td>2017</td>\n",
       "      <td>47000</td>\n",
       "      <td>Diesel</td>\n",
       "      <td>Individual</td>\n",
       "      <td>Manual</td>\n",
       "      <td>Second Owner</td>\n",
       "      <td>23.698795</td>\n",
       "      <td>1582.0</td>\n",
       "      <td>126.20</td>\n",
       "      <td>259.90</td>\n",
       "      <td>5.0</td>\n",
       "      <td>Hyundai</td>\n",
       "    </tr>\n",
       "    <tr>\n",
       "      <th>2127</th>\n",
       "      <td>2012</td>\n",
       "      <td>24300</td>\n",
       "      <td>Petrol</td>\n",
       "      <td>Dealer</td>\n",
       "      <td>Manual</td>\n",
       "      <td>First Owner</td>\n",
       "      <td>28.662162</td>\n",
       "      <td>1197.0</td>\n",
       "      <td>81.80</td>\n",
       "      <td>113.00</td>\n",
       "      <td>5.0</td>\n",
       "      <td>Maruti</td>\n",
       "    </tr>\n",
       "  </tbody>\n",
       "</table>\n",
       "<p>2128 rows × 12 columns</p>\n",
       "</div>"
      ],
      "text/plain": [
       "      year  km_driven    fuel seller_type transmission         owner  \\\n",
       "0     2016      11000  Petrol      Dealer    Automatic   First Owner   \n",
       "1     2017      35000  Petrol  Individual       Manual   First Owner   \n",
       "2     2014      80000  Petrol  Individual       Manual   First Owner   \n",
       "3     2014     145241  Diesel  Individual       Manual   First Owner   \n",
       "4     2015      92651  Diesel      Dealer       Manual   First Owner   \n",
       "...    ...        ...     ...         ...          ...           ...   \n",
       "2123  2020       2000  Petrol      Dealer       Manual   First Owner   \n",
       "2124  2018     100000  Diesel  Individual       Manual  Second Owner   \n",
       "2125  2011     172000  Diesel  Individual       Manual  Second Owner   \n",
       "2126  2017      47000  Diesel  Individual       Manual  Second Owner   \n",
       "2127  2012      24300  Petrol      Dealer       Manual   First Owner   \n",
       "\n",
       "        mileage  engine  max_power  torque  seats     brand  \n",
       "0     19.324324  1598.0     103.50  153.00    5.0     Skoda  \n",
       "1     24.054054  1497.0     117.30  145.00    5.0     Honda  \n",
       "2     25.810811  1197.0      82.00  114.00    5.0   Hyundai  \n",
       "3     14.518072  2179.0     120.00  290.00    7.0  Mahindra  \n",
       "4     26.144578  1498.0      98.96  215.00    5.0      Ford  \n",
       "...         ...     ...        ...     ...    ...       ...  \n",
       "2123  27.972973  1197.0      81.86  113.75    5.0   Hyundai  \n",
       "2124  34.216867  1248.0      74.02  190.00    5.0    Maruti  \n",
       "2125  21.542169  1396.0      52.80   85.00    5.0      Tata  \n",
       "2126  23.698795  1582.0     126.20  259.90    5.0   Hyundai  \n",
       "2127  28.662162  1197.0      81.80  113.00    5.0    Maruti  \n",
       "\n",
       "[2128 rows x 12 columns]"
      ]
     },
     "execution_count": 269,
     "metadata": {},
     "output_type": "execute_result"
    }
   ],
   "source": [
    "test.info()\n",
    "test = test.drop([\"name\", \"id\"], axis=1)\n",
    "test"
   ]
  },
  {
   "cell_type": "code",
   "execution_count": 270,
   "id": "6bc54e6f-148a-4dbd-be49-25f3fd0506e2",
   "metadata": {},
   "outputs": [],
   "source": [
    "train.to_csv('Data/cleaned_train.csv', index=False)\n",
    "test.to_csv('Data/cleaned_test.csv', index=False)"
   ]
  }
 ],
 "metadata": {
  "kernelspec": {
   "display_name": "dragonfruit",
   "language": "python",
   "name": "dragonfruit"
  },
  "language_info": {
   "codemirror_mode": {
    "name": "ipython",
    "version": 3
   },
   "file_extension": ".py",
   "mimetype": "text/x-python",
   "name": "python",
   "nbconvert_exporter": "python",
   "pygments_lexer": "ipython3",
   "version": "3.13.2"
  }
 },
 "nbformat": 4,
 "nbformat_minor": 5
}

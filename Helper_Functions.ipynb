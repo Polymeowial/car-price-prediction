{
 "cells": [
  {
   "cell_type": "code",
   "execution_count": 68,
   "id": "5a8b9871",
   "metadata": {},
   "outputs": [
    {
     "name": "stdout",
     "output_type": "stream",
     "text": [
      "Hello world\n"
     ]
    }
   ],
   "source": [
    "import pandas as pd\n",
    "import numpy as np\n",
    "import re\n",
    "from itertools import chain, combinations"
   ]
  },
  {
   "cell_type": "code",
   "execution_count": 2,
   "id": "f094cc3c",
   "metadata": {},
   "outputs": [],
   "source": [
    "def CV(x):\n",
    "    \"\"\"\n",
    "    x: Series object\n",
    "    \"\"\"\n",
    "    return(x.std()/x.mean())"
   ]
  },
  {
   "cell_type": "code",
   "execution_count": 3,
   "id": "288a9d6f",
   "metadata": {},
   "outputs": [],
   "source": [
    "def SplitValue(x):\n",
    "    \"\"\"\n",
    "    x: string object\n",
    "    \"\"\"\n",
    "    if pd.isna(x) == True: return pd.NA\n",
    "    \n",
    "    str_len = len(x.split())\n",
    "    if str_len == 0:\n",
    "        return pd.NA\n",
    "    else:\n",
    "        return x.split()[0]"
   ]
  },
  {
   "cell_type": "code",
   "execution_count": 27,
   "id": "6f00e9e0",
   "metadata": {},
   "outputs": [],
   "source": [
    "def SplitUnit(x):\n",
    "    \"\"\"\n",
    "    x: string object\n",
    "    \"\"\"\n",
    "    if pd.isna(x) == True: return pd.NA\n",
    "    \n",
    "    str_len = len(x.split())\n",
    "    if str_len <= 1:\n",
    "        return pd.NA\n",
    "    else:\n",
    "        return \"\".join(x.split()[1:])"
   ]
  },
  {
   "cell_type": "code",
   "execution_count": 64,
   "id": "697b7c84",
   "metadata": {},
   "outputs": [],
   "source": [
    "def Density(x):\n",
    "    \"\"\"\n",
    "    x: string object\n",
    "    \"\"\"\n",
    "    if pd.isna(x) == True: return np.NaN\n",
    "    elif x==\"Diesel\": return(0.83)\n",
    "    elif x==\"LPG\": return(0.55)\n",
    "    elif x==\"Petrol\": return(0.74)\n",
    "    else: return(1) #Since all CNG has mileage in km/kg already (no need to convert)"
   ]
  },
  {
   "cell_type": "code",
   "execution_count": 29,
   "id": "23de306d",
   "metadata": {},
   "outputs": [],
   "source": [
    "def TorqueVal(x):\n",
    "    \"\"\"\n",
    "    x: string object\n",
    "    \"\"\"\n",
    "    if pd.isna(x) == True: return np.NaN\n",
    "    \n",
    "    if re.findall(r'[0-9,.]+', x) == []: return np.NaN\n",
    "    else: return re.findall(r'[0-9,.]+', x)[0]"
   ]
  },
  {
   "cell_type": "code",
   "execution_count": 30,
   "id": "ad86689d",
   "metadata": {},
   "outputs": [
    {
     "data": {
      "text/plain": [
       "'123'"
      ]
     },
     "execution_count": 30,
     "metadata": {},
     "output_type": "execute_result"
    }
   ],
   "source": [
    "text = \"123sth 111 @\"\n",
    "re.findall(r'[0-9,.]+', text)\n",
    "TorqueVal(text)"
   ]
  },
  {
   "cell_type": "code",
   "execution_count": 94,
   "id": "9d0d81a9",
   "metadata": {},
   "outputs": [],
   "source": [
    "def TorqueUnit(x):\n",
    "    \"\"\"\n",
    "    x: string object\n",
    "    \"\"\"\n",
    "    if pd.isna(x) == True: return pd.NA\n",
    "    find_list = re.findall(r'(kgm|nm)', x.lower())\n",
    "    if len(find_list) == 0: return pd.NA\n",
    "    elif (\"kgm\" in find_list) & (\"nm\" in find_list): return pd.NA\n",
    "    else: return find_list[0]"
   ]
  },
  {
   "cell_type": "code",
   "execution_count": 91,
   "id": "423f0c3b",
   "metadata": {},
   "outputs": [
    {
     "data": {
      "text/plain": [
       "['nm']"
      ]
     },
     "execution_count": 91,
     "metadata": {},
     "output_type": "execute_result"
    }
   ],
   "source": [
    "x = \"380Nm@ 1750-2750rpm\"\n",
    "re.findall(r'(kgm|nm)', x.lower())"
   ]
  },
  {
   "cell_type": "code",
   "execution_count": 93,
   "id": "e8af1e5b",
   "metadata": {},
   "outputs": [
    {
     "data": {
      "text/plain": [
       "'nm'"
      ]
     },
     "execution_count": 93,
     "metadata": {},
     "output_type": "execute_result"
    }
   ],
   "source": [
    "TorqueUnit(\"380Nm@ 1750-2750rpm\")"
   ]
  },
  {
   "cell_type": "code",
   "execution_count": 26,
   "id": "552c60a3",
   "metadata": {},
   "outputs": [],
   "source": [
    "def AbsCorrGvName(x,y):\n",
    "    \"\"\"\n",
    "    x and y are both Series.\n",
    "    x is the predictor, y is the target.\n",
    "    \"\"\"\n",
    "    \n",
    "    if(len(x) == 1): return 0\n",
    "    \n",
    "    x_std = round(x.std(), 10)\n",
    "    y_std = round(y.std(), 10)\n",
    "    \n",
    "    if( (x_std==0) | (y_std==0) ): return 0\n",
    "    return abs(y.corr(x))"
   ]
  },
  {
   "cell_type": "code",
   "execution_count": 6,
   "id": "07b6ac64",
   "metadata": {},
   "outputs": [],
   "source": [
    "def FindNameinX(x, name):\n",
    "    \"x: string object\"\n",
    "        \n",
    "    res = x.find(name)\n",
    "    if res == -1: return False\n",
    "    else: return True"
   ]
  },
  {
   "cell_type": "code",
   "execution_count": 7,
   "id": "c2d6a1b1",
   "metadata": {},
   "outputs": [
    {
     "data": {
      "text/plain": [
       "False"
      ]
     },
     "execution_count": 7,
     "metadata": {},
     "output_type": "execute_result"
    }
   ],
   "source": [
    "FindNameinX(\"abc hjkhd\", \"bch\")"
   ]
  },
  {
   "cell_type": "code",
   "execution_count": 30,
   "id": "ef4b0074",
   "metadata": {},
   "outputs": [],
   "source": [
    "def Create_name_lv1(x):\n",
    "    \"\"\"\n",
    "    x is a string\n",
    "    \"\"\"\n",
    "    if x.find(\"Land Rover\") == 0:\n",
    "        return x.split()[0] + \" \" + x.split()[1]\n",
    "    else:\n",
    "        return x.split()[0]"
   ]
  },
  {
   "cell_type": "code",
   "execution_count": 29,
   "id": "8167f373",
   "metadata": {},
   "outputs": [
    {
     "data": {
      "text/plain": [
       "'TLand'"
      ]
     },
     "execution_count": 29,
     "metadata": {},
     "output_type": "execute_result"
    }
   ],
   "source": [
    "Create_name_lv1(\"TLand Rover 223 jo\")"
   ]
  },
  {
   "cell_type": "code",
   "execution_count": 31,
   "id": "6398d2b6",
   "metadata": {},
   "outputs": [],
   "source": [
    "def Create_name_lv2(x):\n",
    "    \"\"\"\n",
    "    x is a string\n",
    "    \"\"\"\n",
    "    if x.find(\"Land Rover\") == 0:\n",
    "        return x.split()[0] + \" \" + x.split()[1] + \" \" + x.split()[2]\n",
    "    else:\n",
    "        return x.split()[0] + \" \" + x.split()[1]"
   ]
  },
  {
   "cell_type": "code",
   "execution_count": 33,
   "id": "db008c1e",
   "metadata": {},
   "outputs": [
    {
     "data": {
      "text/plain": [
       "'Land Rover 223'"
      ]
     },
     "execution_count": 33,
     "metadata": {},
     "output_type": "execute_result"
    }
   ],
   "source": [
    "Create_name_lv2(\"Land Rover 223 jo\")"
   ]
  },
  {
   "cell_type": "code",
   "execution_count": 65,
   "id": "f23c34f2",
   "metadata": {},
   "outputs": [],
   "source": [
    "def PowerSet_exclude_empty(x):\n",
    "    \"\"\"\n",
    "    Generate the power set of the array x.\n",
    "    Return: A List of subsets (each tuple in the list is a subset of x)\n",
    "    \"\"\"\n",
    "    # chain.from_iterable is used to flatten the list of combinations\n",
    "    return list(chain.from_iterable(combinations(x, r) for r in range(1, len(x)+1)))"
   ]
  },
  {
   "cell_type": "code",
   "execution_count": 66,
   "id": "9c3b7836",
   "metadata": {},
   "outputs": [
    {
     "name": "stdout",
     "output_type": "stream",
     "text": [
      "('one',)\n",
      "('two',)\n",
      "('three',)\n",
      "('one', 'two')\n",
      "('one', 'three')\n",
      "('two', 'three')\n",
      "('one', 'two', 'three')\n",
      "one\n",
      "two\n"
     ]
    }
   ],
   "source": [
    "power_set = PowerSet_exclude_empty([\"one\",\"two\",\"three\"])\n",
    "subset = PowerSet_exclude_empty([\"one\",\"two\",\"three\"])[3]"
   ]
  },
  {
   "cell_type": "code",
   "execution_count": 74,
   "id": "2d0b574c",
   "metadata": {},
   "outputs": [],
   "source": [
    "def Min_at_element(ar):\n",
    "    \"\"\"\n",
    "    ar is a pd.Series\n",
    "    \"\"\"\n",
    "    \n",
    "    minn = min(ar)\n",
    "    pos = 0\n",
    "    for val in ar:\n",
    "        if val == minn: \n",
    "            return pos\n",
    "            break\n",
    "        pos += 1"
   ]
  },
  {
   "cell_type": "code",
   "execution_count": 76,
   "id": "29879d38",
   "metadata": {},
   "outputs": [
    {
     "data": {
      "text/plain": [
       "4"
      ]
     },
     "execution_count": 76,
     "metadata": {},
     "output_type": "execute_result"
    }
   ],
   "source": [
    "x = pd.Series([1,-1,1,2,-2])\n",
    "Min_at_element(x)"
   ]
  },
  {
   "cell_type": "code",
   "execution_count": 86,
   "id": "78340ba7",
   "metadata": {},
   "outputs": [],
   "source": [
    "class Model_1obs(object):\n",
    "    \"\"\"\n",
    "    return the value of that obs\n",
    "    \"\"\"\n",
    "    \n",
    "    def __init__(self, val):\n",
    "        \"\"\"\n",
    "        val is a float\n",
    "        \"\"\"\n",
    "        self.val = val\n",
    "    \n",
    "    def predict(self, x_test):\n",
    "        \"\"\"\n",
    "        x_test is a Series\n",
    "        \"\"\"\n",
    "        return self.val\n",
    "    \n",
    "    def __repr__(self):\n",
    "        return(\"Model_1obs\")"
   ]
  },
  {
   "cell_type": "code",
   "execution_count": null,
   "id": "24ce1c4e",
   "metadata": {},
   "outputs": [],
   "source": [
    "#%run Functions.ipynb #Comment: This will run the last saved version of this script, therefore, you have to save this script first"
   ]
  }
 ],
 "metadata": {
  "kernelspec": {
   "display_name": "Penguin",
   "language": "python",
   "name": "penguin"
  },
  "language_info": {
   "codemirror_mode": {
    "name": "ipython",
    "version": 3
   },
   "file_extension": ".py",
   "mimetype": "text/x-python",
   "name": "python",
   "nbconvert_exporter": "python",
   "pygments_lexer": "ipython3",
   "version": "3.12.4"
  }
 },
 "nbformat": 4,
 "nbformat_minor": 5
}

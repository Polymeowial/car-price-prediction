{
 "cells": [
  {
   "cell_type": "code",
   "execution_count": 98,
   "id": "5a8b9871",
   "metadata": {},
   "outputs": [],
   "source": [
    "import pandas as pd\n",
    "import numpy as np\n",
    "import re\n",
    "from itertools import chain, combinations"
   ]
  },
  {
   "cell_type": "code",
   "execution_count": 99,
   "id": "f094cc3c",
   "metadata": {},
   "outputs": [],
   "source": [
    "def CV(x):\n",
    "    \"\"\"\n",
    "    x: Series object\n",
    "    \"\"\"\n",
    "    return(x.std()/x.mean())"
   ]
  },
  {
   "cell_type": "code",
   "execution_count": 100,
   "id": "288a9d6f",
   "metadata": {},
   "outputs": [],
   "source": [
    "def SplitValue(x):\n",
    "    \"\"\"\n",
    "    x: string object\n",
    "    \"\"\"\n",
    "    if pd.isna(x) == True: return pd.NA\n",
    "    \n",
    "    str_len = len(x.split())\n",
    "    if str_len == 0:\n",
    "        return pd.NA\n",
    "    else:\n",
    "        return x.split()[0]"
   ]
  },
  {
   "cell_type": "code",
   "execution_count": 101,
   "id": "6f00e9e0",
   "metadata": {},
   "outputs": [],
   "source": [
    "def SplitUnit(x):\n",
    "    \"\"\"\n",
    "    x: string object\n",
    "    \"\"\"\n",
    "    if pd.isna(x) == True: return pd.NA\n",
    "    \n",
    "    str_len = len(x.split())\n",
    "    if str_len <= 1:\n",
    "        return pd.NA\n",
    "    else:\n",
    "        return \"\".join(x.split()[1:])"
   ]
  },
  {
   "cell_type": "code",
   "execution_count": 102,
   "id": "697b7c84",
   "metadata": {},
   "outputs": [],
   "source": [
    "def Density(x):\n",
    "    \"\"\"\n",
    "    x: string object\n",
    "    \"\"\"\n",
    "    if pd.isna(x) == True: return np.NaN\n",
    "    elif x==\"Diesel\": return(0.83)\n",
    "    elif x==\"LPG\": return(0.55)\n",
    "    elif x==\"Petrol\": return(0.74)\n",
    "    else: return(1) #Since all CNG has mileage in km/kg already (no need to convert)"
   ]
  },
  {
   "cell_type": "code",
   "execution_count": 103,
   "id": "23de306d",
   "metadata": {},
   "outputs": [],
   "source": [
    "def TorqueVal(x):\n",
    "    \"\"\"\n",
    "    x: string object\n",
    "    \"\"\"\n",
    "    if pd.isna(x) == True: return np.NaN\n",
    "    \n",
    "    if re.findall(r'[0-9,.]+', x) == []: return np.NaN\n",
    "    else: return re.findall(r'[0-9,.]+', x)[0]"
   ]
  },
  {
   "cell_type": "code",
   "execution_count": 104,
   "id": "ad86689d",
   "metadata": {},
   "outputs": [
    {
     "data": {
      "text/plain": [
       "'123'"
      ]
     },
     "execution_count": 104,
     "metadata": {},
     "output_type": "execute_result"
    }
   ],
   "source": [
    "TorqueVal(\"123sth 111 @\")"
   ]
  },
  {
   "cell_type": "code",
   "execution_count": 105,
   "id": "9d0d81a9",
   "metadata": {},
   "outputs": [],
   "source": [
    "def TorqueUnit(x):\n",
    "    \"\"\"\n",
    "    x: string object\n",
    "    \"\"\"\n",
    "    if pd.isna(x) == True: return pd.NA\n",
    "    find_list = re.findall(r'(kgm|nm)', x.lower())\n",
    "    if len(find_list) == 0: return pd.NA\n",
    "    elif (\"kgm\" in find_list) & (\"nm\" in find_list): return pd.NA\n",
    "    else: return find_list[0]"
   ]
  },
  {
   "cell_type": "code",
   "execution_count": 106,
   "id": "e8af1e5b",
   "metadata": {},
   "outputs": [
    {
     "data": {
      "text/plain": [
       "'nm'"
      ]
     },
     "execution_count": 106,
     "metadata": {},
     "output_type": "execute_result"
    }
   ],
   "source": [
    "TorqueUnit(\"380Nm@ 1750-2750rpm\")"
   ]
  },
  {
   "cell_type": "code",
   "execution_count": 107,
   "id": "552c60a3",
   "metadata": {},
   "outputs": [],
   "source": [
    "def AbsCorrGvName(x,y):\n",
    "    \"\"\"\n",
    "    x and y are both Series.\n",
    "    x is the predictor, y is the target.\n",
    "    \"\"\"\n",
    "    \n",
    "    if(len(x) == 1): return 0\n",
    "    \n",
    "    x_std = round(x.std(), 10)\n",
    "    y_std = round(y.std(), 10)\n",
    "    \n",
    "    if( (x_std==0) | (y_std==0) ): return 0\n",
    "    return abs(y.corr(x))"
   ]
  },
  {
   "cell_type": "code",
   "execution_count": 108,
   "id": "07b6ac64",
   "metadata": {},
   "outputs": [],
   "source": [
    "def FindNameinX(x, name):\n",
    "    \"x: string object\"\n",
    "        \n",
    "    res = x.find(name)\n",
    "    if res == -1: return False\n",
    "    else: return True"
   ]
  },
  {
   "cell_type": "code",
   "execution_count": 109,
   "id": "c2d6a1b1",
   "metadata": {},
   "outputs": [
    {
     "data": {
      "text/plain": [
       "False"
      ]
     },
     "execution_count": 109,
     "metadata": {},
     "output_type": "execute_result"
    }
   ],
   "source": [
    "FindNameinX(\"abc hjkhd\", \"bch\")"
   ]
  },
  {
   "cell_type": "code",
   "execution_count": 110,
   "id": "ef4b0074",
   "metadata": {},
   "outputs": [],
   "source": [
    "def Extract_brand(x):\n",
    "    \"\"\"\n",
    "    x is a string\n",
    "    \"\"\"\n",
    "    if x.find(\"Land Rover\") == 0:\n",
    "        return x.split()[0] + \" \" + x.split()[1]\n",
    "    else:\n",
    "        return x.split()[0]"
   ]
  },
  {
   "cell_type": "code",
   "execution_count": 111,
   "id": "8167f373",
   "metadata": {},
   "outputs": [
    {
     "data": {
      "text/plain": [
       "'TLand'"
      ]
     },
     "execution_count": 111,
     "metadata": {},
     "output_type": "execute_result"
    }
   ],
   "source": [
    "Extract_brand(\"TLand Rover 223 jo\")"
   ]
  },
  {
   "cell_type": "code",
   "execution_count": 112,
   "id": "6398d2b6",
   "metadata": {},
   "outputs": [],
   "source": [
    "def Extract_brand_model(x):\n",
    "    \"\"\"\n",
    "    x is a string\n",
    "    \"\"\"\n",
    "    if x.find(\"Land Rover\") == 0:\n",
    "        return x.split()[0] + \" \" + x.split()[1] + \" \" + x.split()[2]\n",
    "    else:\n",
    "        return x.split()[0] + \" \" + x.split()[1]"
   ]
  },
  {
   "cell_type": "code",
   "execution_count": 113,
   "id": "db008c1e",
   "metadata": {},
   "outputs": [
    {
     "data": {
      "text/plain": [
       "'Land Rover 223'"
      ]
     },
     "execution_count": 113,
     "metadata": {},
     "output_type": "execute_result"
    }
   ],
   "source": [
    "Extract_brand_model(\"Land Rover 223 jo\")"
   ]
  },
  {
   "cell_type": "code",
   "execution_count": 114,
   "id": "f23c34f2",
   "metadata": {},
   "outputs": [],
   "source": [
    "def PowerSet_exclude_empty(x):\n",
    "    \"\"\"\n",
    "    Generate the power set of the array x.\n",
    "    Return: A List of subsets (each tuple in the list is a subset of x)\n",
    "    \"\"\"\n",
    "    # chain.from_iterable is used to flatten the list of combinations\n",
    "    return list(chain.from_iterable(combinations(x, r) for r in range(1, len(x)+1)))"
   ]
  },
  {
   "cell_type": "code",
   "execution_count": 115,
   "id": "9c3b7836",
   "metadata": {},
   "outputs": [],
   "source": [
    "power_set = PowerSet_exclude_empty([\"one\",\"two\",\"three\"])\n",
    "subset = PowerSet_exclude_empty([\"one\",\"two\",\"three\"])[3]"
   ]
  },
  {
   "cell_type": "code",
   "execution_count": 116,
   "id": "2d0b574c",
   "metadata": {},
   "outputs": [],
   "source": [
    "def Min_at_element(ar):\n",
    "    \"\"\"\n",
    "    Note: ar is a pd.Series\n",
    "    \"\"\"\n",
    "    \n",
    "    minn = min(ar)\n",
    "    pos = 0\n",
    "    for val in ar:\n",
    "        if val == minn: \n",
    "            return pos\n",
    "            break\n",
    "        pos += 1"
   ]
  },
  {
   "cell_type": "code",
   "execution_count": 117,
   "id": "29879d38",
   "metadata": {},
   "outputs": [
    {
     "data": {
      "text/plain": [
       "4"
      ]
     },
     "execution_count": 117,
     "metadata": {},
     "output_type": "execute_result"
    }
   ],
   "source": [
    "x = pd.Series([1,-1,1,2,-2])\n",
    "Min_at_element(x)"
   ]
  },
  {
   "cell_type": "code",
   "execution_count": 118,
   "id": "24ce1c4e",
   "metadata": {},
   "outputs": [],
   "source": [
    "#Note: Save this script before running it in Data_Cleaning.ipynb"
   ]
  }
 ],
 "metadata": {
  "kernelspec": {
   "display_name": "Penguin",
   "language": "python",
   "name": "penguin"
  },
  "language_info": {
   "codemirror_mode": {
    "name": "ipython",
    "version": 3
   },
   "file_extension": ".py",
   "mimetype": "text/x-python",
   "name": "python",
   "nbconvert_exporter": "python",
   "pygments_lexer": "ipython3",
   "version": "3.12.4"
  }
 },
 "nbformat": 4,
 "nbformat_minor": 5
}
